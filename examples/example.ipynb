{
 "metadata": {
  "language_info": {
   "codemirror_mode": {
    "name": "ipython",
    "version": 3
   },
   "file_extension": ".py",
   "mimetype": "text/x-python",
   "name": "python",
   "nbconvert_exporter": "python",
   "pygments_lexer": "ipython3",
   "version": "3.7.3-final"
  },
  "orig_nbformat": 2,
  "kernelspec": {
   "name": "python_defaultSpec_1600200456424",
   "display_name": "Python 3.7.3 64-bit ('base': conda)"
  }
 },
 "nbformat": 4,
 "nbformat_minor": 2,
 "cells": [
  {
   "source": [
    "# LUMPREM "
   ],
   "cell_type": "markdown",
   "metadata": {}
  },
  {
   "cell_type": "code",
   "execution_count": 1,
   "metadata": {},
   "outputs": [],
   "source": [
    "import lumpyrem as lr\n",
    "import os"
   ]
  },
  {
   "cell_type": "code",
   "execution_count": 2,
   "metadata": {
    "tags": []
   },
   "outputs": [
    {
     "output_type": "stream",
     "name": "stdout",
     "text": "LUMPREM model input file written to: \nc:\\Users\\rui2h\\Documents\\GitHub\\lumpyrem\\examples\\workspace\\lr_def.in\n\n Enter name of LUMPREM2 control file:  Enter name for LUMPREM2 output file:  \n - file lr_def.in read ok.\n - file lr_def.out written ok.\n\n"
    }
   ],
   "source": [
    "# set the workspace directory\n",
    "cwd = os.getcwd()\n",
    "workspace = os.path.join(cwd,'workspace')\n",
    "\n",
    "# initiate the model and write the in files\n",
    "b = lr.lumprem.Model(model_name='def', workspace=workspace)\n",
    "b.write_model()\n",
    "\n",
    "# run themodel\n",
    "b.run_model()"
   ]
  },
  {
   "cell_type": "code",
   "execution_count": 3,
   "metadata": {},
   "outputs": [
    {
     "output_type": "execute_result",
     "data": {
      "text/plain": "   days  volume  vol_drain  vol_macro  delta_vol  del_vol_drain  \\\n0   0.0    0.25   0.000000        0.0        0.0       0.000000   \n1   1.0    0.25   0.001269        0.0        0.0       0.001269   \n2   2.0    0.25   0.002538        0.0        0.0       0.001269   \n3   3.0    0.25   0.003808        0.0        0.0       0.001269   \n4   4.0    0.25   0.005077        0.0        0.0       0.001269   \n\n   del_vol_macro  rainfall  irrigation  recharge  ...   ks    M    L  \\\n0            0.0    0.0000    0.000000       0.0  ...  0.1  0.5  0.5   \n1            0.0    0.0000    0.001475       0.0  ...  0.1  0.5  0.5   \n2            0.0    0.0000    0.001465       0.0  ...  0.1  0.5  0.5   \n3            0.0    0.0002    0.001265       0.0  ...  0.1  0.5  0.5   \n4            0.0    0.0002    0.001275       0.0  ...  0.1  0.5  0.5   \n\n   mflowmax  offset  factor1  factor2  power   vol  \\\n0       0.1     0.0      1.0      1.0    0.0  0.25   \n1       0.1     0.0      1.0      1.0    0.0  0.25   \n2       0.1     0.0      1.0      1.0    0.0  0.25   \n3       0.1     0.0      1.0      1.0    0.0  0.25   \n4       0.1     0.0      1.0      1.0    0.0  0.25   \n\n                                           workspace  \n0  c:\\Users\\rui2h\\Documents\\GitHub\\lumpyrem\\examp...  \n1  c:\\Users\\rui2h\\Documents\\GitHub\\lumpyrem\\examp...  \n2  c:\\Users\\rui2h\\Documents\\GitHub\\lumpyrem\\examp...  \n3  c:\\Users\\rui2h\\Documents\\GitHub\\lumpyrem\\examp...  \n4  c:\\Users\\rui2h\\Documents\\GitHub\\lumpyrem\\examp...  \n\n[5 rows x 40 columns]",
      "text/html": "<div>\n<style scoped>\n    .dataframe tbody tr th:only-of-type {\n        vertical-align: middle;\n    }\n\n    .dataframe tbody tr th {\n        vertical-align: top;\n    }\n\n    .dataframe thead th {\n        text-align: right;\n    }\n</style>\n<table border=\"1\" class=\"dataframe\">\n  <thead>\n    <tr style=\"text-align: right;\">\n      <th></th>\n      <th>days</th>\n      <th>volume</th>\n      <th>vol_drain</th>\n      <th>vol_macro</th>\n      <th>delta_vol</th>\n      <th>del_vol_drain</th>\n      <th>del_vol_macro</th>\n      <th>rainfall</th>\n      <th>irrigation</th>\n      <th>recharge</th>\n      <th>...</th>\n      <th>ks</th>\n      <th>M</th>\n      <th>L</th>\n      <th>mflowmax</th>\n      <th>offset</th>\n      <th>factor1</th>\n      <th>factor2</th>\n      <th>power</th>\n      <th>vol</th>\n      <th>workspace</th>\n    </tr>\n  </thead>\n  <tbody>\n    <tr>\n      <th>0</th>\n      <td>0.0</td>\n      <td>0.25</td>\n      <td>0.000000</td>\n      <td>0.0</td>\n      <td>0.0</td>\n      <td>0.000000</td>\n      <td>0.0</td>\n      <td>0.0000</td>\n      <td>0.000000</td>\n      <td>0.0</td>\n      <td>...</td>\n      <td>0.1</td>\n      <td>0.5</td>\n      <td>0.5</td>\n      <td>0.1</td>\n      <td>0.0</td>\n      <td>1.0</td>\n      <td>1.0</td>\n      <td>0.0</td>\n      <td>0.25</td>\n      <td>c:\\Users\\rui2h\\Documents\\GitHub\\lumpyrem\\examp...</td>\n    </tr>\n    <tr>\n      <th>1</th>\n      <td>1.0</td>\n      <td>0.25</td>\n      <td>0.001269</td>\n      <td>0.0</td>\n      <td>0.0</td>\n      <td>0.001269</td>\n      <td>0.0</td>\n      <td>0.0000</td>\n      <td>0.001475</td>\n      <td>0.0</td>\n      <td>...</td>\n      <td>0.1</td>\n      <td>0.5</td>\n      <td>0.5</td>\n      <td>0.1</td>\n      <td>0.0</td>\n      <td>1.0</td>\n      <td>1.0</td>\n      <td>0.0</td>\n      <td>0.25</td>\n      <td>c:\\Users\\rui2h\\Documents\\GitHub\\lumpyrem\\examp...</td>\n    </tr>\n    <tr>\n      <th>2</th>\n      <td>2.0</td>\n      <td>0.25</td>\n      <td>0.002538</td>\n      <td>0.0</td>\n      <td>0.0</td>\n      <td>0.001269</td>\n      <td>0.0</td>\n      <td>0.0000</td>\n      <td>0.001465</td>\n      <td>0.0</td>\n      <td>...</td>\n      <td>0.1</td>\n      <td>0.5</td>\n      <td>0.5</td>\n      <td>0.1</td>\n      <td>0.0</td>\n      <td>1.0</td>\n      <td>1.0</td>\n      <td>0.0</td>\n      <td>0.25</td>\n      <td>c:\\Users\\rui2h\\Documents\\GitHub\\lumpyrem\\examp...</td>\n    </tr>\n    <tr>\n      <th>3</th>\n      <td>3.0</td>\n      <td>0.25</td>\n      <td>0.003808</td>\n      <td>0.0</td>\n      <td>0.0</td>\n      <td>0.001269</td>\n      <td>0.0</td>\n      <td>0.0002</td>\n      <td>0.001265</td>\n      <td>0.0</td>\n      <td>...</td>\n      <td>0.1</td>\n      <td>0.5</td>\n      <td>0.5</td>\n      <td>0.1</td>\n      <td>0.0</td>\n      <td>1.0</td>\n      <td>1.0</td>\n      <td>0.0</td>\n      <td>0.25</td>\n      <td>c:\\Users\\rui2h\\Documents\\GitHub\\lumpyrem\\examp...</td>\n    </tr>\n    <tr>\n      <th>4</th>\n      <td>4.0</td>\n      <td>0.25</td>\n      <td>0.005077</td>\n      <td>0.0</td>\n      <td>0.0</td>\n      <td>0.001269</td>\n      <td>0.0</td>\n      <td>0.0002</td>\n      <td>0.001275</td>\n      <td>0.0</td>\n      <td>...</td>\n      <td>0.1</td>\n      <td>0.5</td>\n      <td>0.5</td>\n      <td>0.1</td>\n      <td>0.0</td>\n      <td>1.0</td>\n      <td>1.0</td>\n      <td>0.0</td>\n      <td>0.25</td>\n      <td>c:\\Users\\rui2h\\Documents\\GitHub\\lumpyrem\\examp...</td>\n    </tr>\n  </tbody>\n</table>\n<p>5 rows × 40 columns</p>\n</div>"
     },
     "metadata": {},
     "execution_count": 3
    }
   ],
   "source": [
    "# get model results\n",
    "results = b.get_results()\n",
    "results.head()"
   ]
  },
  {
   "cell_type": "code",
   "execution_count": 4,
   "metadata": {
    "tags": []
   },
   "outputs": [
    {
     "output_type": "stream",
     "name": "stdout",
     "text": "Irrigation input file written to: \nc:\\Users\\rui2h\\Documents\\GitHub\\lumpyrem\\examples\\workspace\\irrig.in\n"
    }
   ],
   "source": [
    "# write an irrigation file\n",
    "b.write_irigfile(3650, 150, 0.3) # number of days, day on which irrigation starts, and fraction of the year with irrigation"
   ]
  },
  {
   "cell_type": "code",
   "execution_count": 5,
   "metadata": {
    "tags": []
   },
   "outputs": [
    {
     "output_type": "stream",
     "name": "stdout",
     "text": "Irrigation input file written to: \nc:\\Users\\rui2h\\Documents\\GitHub\\lumpyrem\\examples\\workspace\\irrig_dates.in\n"
    }
   ],
   "source": [
    "# write an irrigation file for a specified start date\n",
    "\n",
    "b.write_irigfile(3650, 150, 0.3, date_start='01/01/2010', irrigfile='irrig_dates.in')"
   ]
  },
  {
   "cell_type": "code",
   "execution_count": 6,
   "metadata": {
    "tags": []
   },
   "outputs": [
    {
     "output_type": "stream",
     "name": "stdout",
     "text": "LUMPREM model input file written to: \nc:\\Users\\rui2h\\Documents\\GitHub\\lumpyrem\\examples\\workspace\\lr_ghj.in\n\n Enter name of LUMPREM2 control file:  Enter name for LUMPREM2 output file:  \n - file lr_ghj.in read ok.\n - file lr_ghj.out written ok.\n\n"
    },
    {
     "output_type": "execute_result",
     "data": {
      "text/plain": "<matplotlib.axes._subplots.AxesSubplot at 0x230fe4707f0>"
     },
     "metadata": {},
     "execution_count": 6
    }
   ],
   "source": [
    "# make a model with an irrig in file\n",
    "c = lr.lumprem.Model('ghj', workspace=workspace)\n",
    "c.irrigfile = 'irrig_dates.in'\n",
    "\n",
    "c.write_model(numdays=3650)\n",
    "c.run_model()\n",
    "results = c.get_results()\n",
    "results.plot('days','irrigation')\n",
    "results.plot('days', 'net_recharge')"
   ]
  },
  {
   "cell_type": "code",
   "execution_count": 7,
   "metadata": {},
   "outputs": [
    {
     "output_type": "execute_result",
     "data": {
      "text/plain": "Index(['days', 'volume', 'vol_drain', 'vol_macro', 'delta_vol',\n       'del_vol_drain', 'del_vol_macro', 'rainfall', 'irrigation', 'recharge',\n       'macro_rech', 'total_rech', 'gw_withdrawal', 'net_recharge', 'runoff',\n       'pot_evap', 'evaporation', 'gw_pot_evap', 'balance', 'elevation',\n       'depth-to-water', 'lumprem_model_name', 'rainfile', 'epotfile',\n       'vegfile', 'irrigfile', 'maxvol', 'irrigvolfrac', 'rdelay', 'mdelay',\n       'ks', 'M', 'L', 'mflowmax', 'offset', 'factor1', 'factor2', 'power',\n       'vol', 'workspace'],\n      dtype='object')"
     },
     "metadata": {},
     "execution_count": 7
    }
   ],
   "source": [
    "# see the names of columns in the LUMPREM output file\n",
    "results.columns"
   ]
  },
  {
   "source": [
    "# Using LR2SERIES\n",
    "## Generates MODFLOW6 timeseries file from several LUMPREM model outputs"
   ],
   "cell_type": "markdown",
   "metadata": {}
  },
  {
   "cell_type": "code",
   "execution_count": 8,
   "metadata": {
    "tags": []
   },
   "outputs": [
    {
     "output_type": "stream",
     "name": "stdout",
     "text": "LUMPREM model input file written to: \nc:\\Users\\rui2h\\Documents\\GitHub\\lumpyrem\\examples\\workspace\\lr_abc.in\n\n Enter name of LUMPREM2 control file:  Enter name for LUMPREM2 output file:  \n - file lr_abc.in read ok.\n - file lr_abc.out written ok.\n\nLUMPREM model input file written to: \nc:\\Users\\rui2h\\Documents\\GitHub\\lumpyrem\\examples\\workspace\\lr_def.in\n\n Enter name of LUMPREM2 control file:  Enter name for LUMPREM2 output file:  \n - file lr_def.in read ok.\n - file lr_def.out written ok.\n\nMF6 timeseries file c:\\Users\\rui2h\\Documents\\GitHub\\lumpyrem\\examples\\workspace\\rech.ts.in written to:\nc:\\Users\\rui2h\\Documents\\GitHub\\lumpyrem\\examples\\workspace\\rech.ts.in\n Enter name of LR2SERIES control file:  \n - reading file rech.ts.in...\n \n - reading LUMPREM2 output file lr_abc.out...\n - file lr_abc.out read ok.\n - reading LUMPREM2 output file lr_def.out...\n - file lr_def.out read ok.\n - writing file rech.ts...\n - file rech.ts written ok.\n \n - file rech.ts.in read ok.\n\n"
    }
   ],
   "source": [
    "# make a mf6 tseries file\n",
    "\n",
    "# run some LUMPREM models. These have to have the same time configuration.\n",
    "d = lr.lumprem.Model(model_name='abc', workspace=workspace)\n",
    "d.write_model()\n",
    "d.run_model()\n",
    "\n",
    "e = lr.lumprem.Model(model_name='def', workspace=workspace)\n",
    "e.write_model()\n",
    "e.run_model()\n",
    "\n",
    "# make a list of the lumprem models\n",
    "lr_models =[d,e]\n",
    "\n",
    "# make a list of lumprem output columns to read\n",
    "lumprem_ouput_cols = ['net_recharge','gw_withdrawal']\n",
    "\n",
    "# make a list of timseries names for the column to be used in the ts file. Length and sequence of ts_names and lumprem columns must match!\n",
    "ts_names = ['rech','pumping']\n",
    "\n",
    "#initialize the timeseries object\n",
    "rechts = lr.lr2series.TimeSeries('rech.ts',workspace=workspace, lr_models=lr_models, lumprem_ouput_cols=lumprem_ouput_cols, ts_names=ts_names)\n",
    "\n",
    "# write lr2series input and ts file\n",
    "rechts.write_ts()"
   ]
  },
  {
   "source": [
    "# Using LUMPREP"
   ],
   "cell_type": "markdown",
   "metadata": {}
  },
  {
   "cell_type": "code",
   "execution_count": 9,
   "metadata": {},
   "outputs": [
    {
     "output_type": "execute_result",
     "data": {
      "text/plain": "['abc', 'def']"
     },
     "metadata": {},
     "execution_count": 9
    }
   ],
   "source": [
    "z = lr.lumprep.Simulation(lr_models,('silofile.txt', 'evap'),'01/01/2000','01/01/2010')\n",
    "z.model_names"
   ]
  },
  {
   "cell_type": "code",
   "execution_count": 10,
   "metadata": {},
   "outputs": [
    {
     "output_type": "execute_result",
     "data": {
      "text/plain": "('silofile.txt', 'evap')"
     },
     "metadata": {},
     "execution_count": 10
    }
   ],
   "source": [
    "z.__dict__['silofile']"
   ]
  },
  {
   "cell_type": "code",
   "execution_count": 13,
   "metadata": {
    "tags": []
   },
   "outputs": [
    {
     "output_type": "stream",
     "name": "stdout",
     "text": "Enter name of LUMPREP control file:  \n - reading file lumprep.in...\n \n START_DATE                  = 01/01/2000\n END_DATE                    = 01/01/2010\n NDAY_OUT                    = monthly\n STEPS_PER_DAY               = 1\n SILOFILE                    = silofile.txt\n EVAPCOLSTRING               = \"evap\"\n - reading file silofile.txt...\n - file silofile.txt read ok\n RAINFILE                    = rain.dat\n - writing file rain.dat...\n - file rain.dat written ok\n EPOTFILE                    = epot.dat\n - writing file epot.dat...\n - file epot.dat written ok\n CROPFAC                     = 0.2000000\n GAMMA                       = 1.500000\n IRRIGCODE                   = 1\n GWIRRIGFRAC                 = 1.000000\n MAXVOL                      = 0.5000000\n IRRIGVOLFRAC                = 0.5000000\n RDELAY                      = 5.000000\n MDELAY                      = 1.000000\n KS                          = 0.1000000\n M                           = 0.5000000\n L                           = 0.5000000\n MFLOWMAX                    = 0.1000000\n OFFSET                      = 0.000000\n FACTOR1                     = 1.000000\n FACTOR2                     = 1.000000\n POWER                       = 0.000000\n VOL                         = 0.2500000\n LUMPREM_MODEL_NAME          = \"abc\"\n - writing file lr_abc.in...\n - file lr_abc.in written ok\n - writing file lr_abc.tpl...\n - file lr_abc.tpl written ok\n SILOFILE                    = silofile.txt\n EVAPCOLSTRING               = \"evap\"\n - reading file silofile.txt...\n - file silofile.txt read ok\n RAINFILE                    = rain.dat\n - writing file rain.dat...\n - file rain.dat written ok\n EPOTFILE                    = epot.dat\n - writing file epot.dat...\n - file epot.dat written ok\n CROPFAC                     = 0.2000000\n GAMMA                       = 1.500000\n IRRIGCODE                   = 1\n GWIRRIGFRAC                 = 1.000000\n MAXVOL                      = 0.5000000\n IRRIGVOLFRAC                = 0.5000000\n RDELAY                      = 5.000000\n MDELAY                      = 1.000000\n KS                          = 0.1000000\n M                           = 0.5000000\n L                           = 0.5000000\n MFLOWMAX                    = 0.1000000\n OFFSET                      = 0.000000\n FACTOR1                     = 1.000000\n FACTOR2                     = 1.000000\n POWER                       = 0.000000\n VOL                         = 0.2500000\n LUMPREM_MODEL_NAME          = \"def\"\n - writing file lr_def.in...\n - file lr_def.in written ok\n - writing file lr_def.tpl...\n - file lr_def.tpl written ok\n BATCH_FILE_NAME             = run.bat\n PEST_CONTROL_FILE           = temp.pst\n - writing file temp.pst...\n - file temp.pst written ok\n - writing file run.bat...\n - file run.bat written ok\n \n - file lumprep.in read ok\n\n"
    }
   ],
   "source": [
    "z.write_simulation()"
   ]
  },
  {
   "cell_type": "code",
   "execution_count": 14,
   "metadata": {
    "tags": []
   },
   "outputs": [
    {
     "output_type": "stream",
     "name": "stdout",
     "text": "Enter name of LUMPREM2 control file:  Enter name for LUMPREM2 output file:  \n - file lr_abc.in read ok.\n - file lr_abc.out written ok.\n\n Enter name of LUMPREM2 control file:  Enter name for LUMPREM2 output file:  \n - file lr_def.in read ok.\n - file lr_def.out written ok.\n\n"
    }
   ],
   "source": [
    "z.run_simulation()"
   ]
  },
  {
   "cell_type": "code",
   "execution_count": 15,
   "metadata": {},
   "outputs": [
    {
     "output_type": "execute_result",
     "data": {
      "text/plain": "       days    volume  vol_drain  vol_macro  delta_vol  del_vol_drain  \\\n0       0.0  0.250000   0.000000        0.0   0.000000       0.000000   \n1      31.0  0.273515   0.010554        0.0   0.023515       0.010554   \n2      60.0  0.250000   0.006346        0.0  -0.023515      -0.004208   \n3      91.0  0.258727   0.006738        0.0   0.008727       0.000392   \n4     121.0  0.314951   0.011530        0.0   0.056225       0.004792   \n..      ...       ...        ...        ...        ...            ...   \n239  3561.0  0.250000   0.006346        0.0   0.000000       0.000000   \n240  3592.0  0.250000   0.006677        0.0   0.000000       0.000331   \n241  3622.0  0.253267   0.006970        0.0   0.003267       0.000293   \n242  3653.0  0.407879   0.074063        0.0   0.154612       0.067093   \n243  3654.0  0.393535   0.076635        0.0  -0.014344       0.002572   \n\n     del_vol_macro  rainfall  irrigation  recharge  ...    M    L  mflowmax  \\\n0              0.0    0.0000    0.000000  0.000000  ...  0.5  0.5       0.1   \n1              0.0    0.0708    0.014190  0.042502  ...  0.5  0.5       0.1   \n2              0.0    0.0068    0.021876  0.046559  ...  0.5  0.5       0.1   \n3              0.0    0.0218    0.039005  0.039545  ...  0.5  0.5       0.1   \n4              0.0    0.1452    0.000000  0.071411  ...  0.5  0.5       0.1   \n..             ...       ...         ...       ...  ...  ...  ...       ...   \n239            0.0    0.0016    0.037330  0.038076  ...  0.5  0.5       0.1   \n240            0.0    0.0208    0.021369  0.041035  ...  0.5  0.5       0.1   \n241            0.0    0.0160    0.026932  0.038480  ...  0.5  0.5       0.1   \n242            0.0    0.2992    0.013711  0.089141  ...  0.5  0.5       0.1   \n243            0.0    0.0002    0.000000  0.011887  ...  0.5  0.5       0.1   \n\n     offset  factor1  factor2  power   vol  lumprem_model_name  \\\n0       0.0      1.0      1.0    0.0  0.25                 abc   \n1       0.0      1.0      1.0    0.0  0.25                 abc   \n2       0.0      1.0      1.0    0.0  0.25                 abc   \n3       0.0      1.0      1.0    0.0  0.25                 abc   \n4       0.0      1.0      1.0    0.0  0.25                 abc   \n..      ...      ...      ...    ...   ...                 ...   \n239     0.0      1.0      1.0    0.0  0.25                 def   \n240     0.0      1.0      1.0    0.0  0.25                 def   \n241     0.0      1.0      1.0    0.0  0.25                 def   \n242     0.0      1.0      1.0    0.0  0.25                 def   \n243     0.0      1.0      1.0    0.0  0.25                 def   \n\n                                             workspace  \n0    c:\\Users\\rui2h\\Documents\\GitHub\\lumpyrem\\examp...  \n1    c:\\Users\\rui2h\\Documents\\GitHub\\lumpyrem\\examp...  \n2    c:\\Users\\rui2h\\Documents\\GitHub\\lumpyrem\\examp...  \n3    c:\\Users\\rui2h\\Documents\\GitHub\\lumpyrem\\examp...  \n4    c:\\Users\\rui2h\\Documents\\GitHub\\lumpyrem\\examp...  \n..                                                 ...  \n239  c:\\Users\\rui2h\\Documents\\GitHub\\lumpyrem\\examp...  \n240  c:\\Users\\rui2h\\Documents\\GitHub\\lumpyrem\\examp...  \n241  c:\\Users\\rui2h\\Documents\\GitHub\\lumpyrem\\examp...  \n242  c:\\Users\\rui2h\\Documents\\GitHub\\lumpyrem\\examp...  \n243  c:\\Users\\rui2h\\Documents\\GitHub\\lumpyrem\\examp...  \n\n[244 rows x 41 columns]",
      "text/html": "<div>\n<style scoped>\n    .dataframe tbody tr th:only-of-type {\n        vertical-align: middle;\n    }\n\n    .dataframe tbody tr th {\n        vertical-align: top;\n    }\n\n    .dataframe thead th {\n        text-align: right;\n    }\n</style>\n<table border=\"1\" class=\"dataframe\">\n  <thead>\n    <tr style=\"text-align: right;\">\n      <th></th>\n      <th>days</th>\n      <th>volume</th>\n      <th>vol_drain</th>\n      <th>vol_macro</th>\n      <th>delta_vol</th>\n      <th>del_vol_drain</th>\n      <th>del_vol_macro</th>\n      <th>rainfall</th>\n      <th>irrigation</th>\n      <th>recharge</th>\n      <th>...</th>\n      <th>M</th>\n      <th>L</th>\n      <th>mflowmax</th>\n      <th>offset</th>\n      <th>factor1</th>\n      <th>factor2</th>\n      <th>power</th>\n      <th>vol</th>\n      <th>lumprem_model_name</th>\n      <th>workspace</th>\n    </tr>\n  </thead>\n  <tbody>\n    <tr>\n      <th>0</th>\n      <td>0.0</td>\n      <td>0.250000</td>\n      <td>0.000000</td>\n      <td>0.0</td>\n      <td>0.000000</td>\n      <td>0.000000</td>\n      <td>0.0</td>\n      <td>0.0000</td>\n      <td>0.000000</td>\n      <td>0.000000</td>\n      <td>...</td>\n      <td>0.5</td>\n      <td>0.5</td>\n      <td>0.1</td>\n      <td>0.0</td>\n      <td>1.0</td>\n      <td>1.0</td>\n      <td>0.0</td>\n      <td>0.25</td>\n      <td>abc</td>\n      <td>c:\\Users\\rui2h\\Documents\\GitHub\\lumpyrem\\examp...</td>\n    </tr>\n    <tr>\n      <th>1</th>\n      <td>31.0</td>\n      <td>0.273515</td>\n      <td>0.010554</td>\n      <td>0.0</td>\n      <td>0.023515</td>\n      <td>0.010554</td>\n      <td>0.0</td>\n      <td>0.0708</td>\n      <td>0.014190</td>\n      <td>0.042502</td>\n      <td>...</td>\n      <td>0.5</td>\n      <td>0.5</td>\n      <td>0.1</td>\n      <td>0.0</td>\n      <td>1.0</td>\n      <td>1.0</td>\n      <td>0.0</td>\n      <td>0.25</td>\n      <td>abc</td>\n      <td>c:\\Users\\rui2h\\Documents\\GitHub\\lumpyrem\\examp...</td>\n    </tr>\n    <tr>\n      <th>2</th>\n      <td>60.0</td>\n      <td>0.250000</td>\n      <td>0.006346</td>\n      <td>0.0</td>\n      <td>-0.023515</td>\n      <td>-0.004208</td>\n      <td>0.0</td>\n      <td>0.0068</td>\n      <td>0.021876</td>\n      <td>0.046559</td>\n      <td>...</td>\n      <td>0.5</td>\n      <td>0.5</td>\n      <td>0.1</td>\n      <td>0.0</td>\n      <td>1.0</td>\n      <td>1.0</td>\n      <td>0.0</td>\n      <td>0.25</td>\n      <td>abc</td>\n      <td>c:\\Users\\rui2h\\Documents\\GitHub\\lumpyrem\\examp...</td>\n    </tr>\n    <tr>\n      <th>3</th>\n      <td>91.0</td>\n      <td>0.258727</td>\n      <td>0.006738</td>\n      <td>0.0</td>\n      <td>0.008727</td>\n      <td>0.000392</td>\n      <td>0.0</td>\n      <td>0.0218</td>\n      <td>0.039005</td>\n      <td>0.039545</td>\n      <td>...</td>\n      <td>0.5</td>\n      <td>0.5</td>\n      <td>0.1</td>\n      <td>0.0</td>\n      <td>1.0</td>\n      <td>1.0</td>\n      <td>0.0</td>\n      <td>0.25</td>\n      <td>abc</td>\n      <td>c:\\Users\\rui2h\\Documents\\GitHub\\lumpyrem\\examp...</td>\n    </tr>\n    <tr>\n      <th>4</th>\n      <td>121.0</td>\n      <td>0.314951</td>\n      <td>0.011530</td>\n      <td>0.0</td>\n      <td>0.056225</td>\n      <td>0.004792</td>\n      <td>0.0</td>\n      <td>0.1452</td>\n      <td>0.000000</td>\n      <td>0.071411</td>\n      <td>...</td>\n      <td>0.5</td>\n      <td>0.5</td>\n      <td>0.1</td>\n      <td>0.0</td>\n      <td>1.0</td>\n      <td>1.0</td>\n      <td>0.0</td>\n      <td>0.25</td>\n      <td>abc</td>\n      <td>c:\\Users\\rui2h\\Documents\\GitHub\\lumpyrem\\examp...</td>\n    </tr>\n    <tr>\n      <th>...</th>\n      <td>...</td>\n      <td>...</td>\n      <td>...</td>\n      <td>...</td>\n      <td>...</td>\n      <td>...</td>\n      <td>...</td>\n      <td>...</td>\n      <td>...</td>\n      <td>...</td>\n      <td>...</td>\n      <td>...</td>\n      <td>...</td>\n      <td>...</td>\n      <td>...</td>\n      <td>...</td>\n      <td>...</td>\n      <td>...</td>\n      <td>...</td>\n      <td>...</td>\n      <td>...</td>\n    </tr>\n    <tr>\n      <th>239</th>\n      <td>3561.0</td>\n      <td>0.250000</td>\n      <td>0.006346</td>\n      <td>0.0</td>\n      <td>0.000000</td>\n      <td>0.000000</td>\n      <td>0.0</td>\n      <td>0.0016</td>\n      <td>0.037330</td>\n      <td>0.038076</td>\n      <td>...</td>\n      <td>0.5</td>\n      <td>0.5</td>\n      <td>0.1</td>\n      <td>0.0</td>\n      <td>1.0</td>\n      <td>1.0</td>\n      <td>0.0</td>\n      <td>0.25</td>\n      <td>def</td>\n      <td>c:\\Users\\rui2h\\Documents\\GitHub\\lumpyrem\\examp...</td>\n    </tr>\n    <tr>\n      <th>240</th>\n      <td>3592.0</td>\n      <td>0.250000</td>\n      <td>0.006677</td>\n      <td>0.0</td>\n      <td>0.000000</td>\n      <td>0.000331</td>\n      <td>0.0</td>\n      <td>0.0208</td>\n      <td>0.021369</td>\n      <td>0.041035</td>\n      <td>...</td>\n      <td>0.5</td>\n      <td>0.5</td>\n      <td>0.1</td>\n      <td>0.0</td>\n      <td>1.0</td>\n      <td>1.0</td>\n      <td>0.0</td>\n      <td>0.25</td>\n      <td>def</td>\n      <td>c:\\Users\\rui2h\\Documents\\GitHub\\lumpyrem\\examp...</td>\n    </tr>\n    <tr>\n      <th>241</th>\n      <td>3622.0</td>\n      <td>0.253267</td>\n      <td>0.006970</td>\n      <td>0.0</td>\n      <td>0.003267</td>\n      <td>0.000293</td>\n      <td>0.0</td>\n      <td>0.0160</td>\n      <td>0.026932</td>\n      <td>0.038480</td>\n      <td>...</td>\n      <td>0.5</td>\n      <td>0.5</td>\n      <td>0.1</td>\n      <td>0.0</td>\n      <td>1.0</td>\n      <td>1.0</td>\n      <td>0.0</td>\n      <td>0.25</td>\n      <td>def</td>\n      <td>c:\\Users\\rui2h\\Documents\\GitHub\\lumpyrem\\examp...</td>\n    </tr>\n    <tr>\n      <th>242</th>\n      <td>3653.0</td>\n      <td>0.407879</td>\n      <td>0.074063</td>\n      <td>0.0</td>\n      <td>0.154612</td>\n      <td>0.067093</td>\n      <td>0.0</td>\n      <td>0.2992</td>\n      <td>0.013711</td>\n      <td>0.089141</td>\n      <td>...</td>\n      <td>0.5</td>\n      <td>0.5</td>\n      <td>0.1</td>\n      <td>0.0</td>\n      <td>1.0</td>\n      <td>1.0</td>\n      <td>0.0</td>\n      <td>0.25</td>\n      <td>def</td>\n      <td>c:\\Users\\rui2h\\Documents\\GitHub\\lumpyrem\\examp...</td>\n    </tr>\n    <tr>\n      <th>243</th>\n      <td>3654.0</td>\n      <td>0.393535</td>\n      <td>0.076635</td>\n      <td>0.0</td>\n      <td>-0.014344</td>\n      <td>0.002572</td>\n      <td>0.0</td>\n      <td>0.0002</td>\n      <td>0.000000</td>\n      <td>0.011887</td>\n      <td>...</td>\n      <td>0.5</td>\n      <td>0.5</td>\n      <td>0.1</td>\n      <td>0.0</td>\n      <td>1.0</td>\n      <td>1.0</td>\n      <td>0.0</td>\n      <td>0.25</td>\n      <td>def</td>\n      <td>c:\\Users\\rui2h\\Documents\\GitHub\\lumpyrem\\examp...</td>\n    </tr>\n  </tbody>\n</table>\n<p>244 rows × 41 columns</p>\n</div>"
     },
     "metadata": {},
     "execution_count": 15
    }
   ],
   "source": [
    "z.get_results()"
   ]
  },
  {
   "cell_type": "code",
   "execution_count": null,
   "metadata": {},
   "outputs": [],
   "source": []
  }
 ]
}