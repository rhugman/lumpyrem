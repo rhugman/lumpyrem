{
 "metadata": {
  "language_info": {
   "codemirror_mode": {
    "name": "ipython",
    "version": 3
   },
   "file_extension": ".py",
   "mimetype": "text/x-python",
   "name": "python",
   "nbconvert_exporter": "python",
   "pygments_lexer": "ipython3",
   "version": "3.7.3-final"
  },
  "orig_nbformat": 2,
  "kernelspec": {
   "name": "python_defaultSpec_1600331733335",
   "display_name": "Python 3.7.3 64-bit ('base': conda)"
  }
 },
 "nbformat": 4,
 "nbformat_minor": 2,
 "cells": [
  {
   "source": [
    "# LUMPREM "
   ],
   "cell_type": "markdown",
   "metadata": {}
  },
  {
   "cell_type": "code",
   "execution_count": 1,
   "metadata": {},
   "outputs": [],
   "source": [
    "import lumpyrem as lr\n",
    "import os"
   ]
  },
  {
   "cell_type": "code",
   "execution_count": 2,
   "metadata": {
    "tags": []
   },
   "outputs": [
    {
     "output_type": "stream",
     "name": "stdout",
     "text": "LUMPREM model input file written to: \nc:\\Users\\rui2h\\Documents\\GitHub\\lumpyrem\\examples\\workspace\\lr_def.in\n\n Enter name of LUMPREM2 control file:  Enter name for LUMPREM2 output file:  \n - file lr_def.in read ok.\n \n Cannot open vegetation file.\n\n"
    }
   ],
   "source": [
    "# set the workspace directory\n",
    "cwd = os.getcwd()\n",
    "workspace = os.path.join(cwd,'workspace')\n",
    "\n",
    "# initiate the model and write the in files\n",
    "b = lr.lumprem.Model(model_name='def', workspace=workspace)\n",
    "b.write_model()\n",
    "\n",
    "# run themodel\n",
    "b.run_model()"
   ]
  },
  {
   "cell_type": "code",
   "execution_count": 3,
   "metadata": {},
   "outputs": [
    {
     "output_type": "execute_result",
     "data": {
      "text/plain": "    days    volume  vol_drain  vol_macro  delta_vol  del_vol_drain  \\\n0    0.0  0.250000   0.000000        0.0   0.000000       0.000000   \n1   31.0  0.260354   0.008317        0.0   0.010354       0.008317   \n2   59.0  0.218230   0.003553        0.0  -0.042124      -0.004764   \n3   90.0  0.204296   0.001994        0.0  -0.013934      -0.001559   \n4  120.0  0.247053   0.006391        0.0   0.042758       0.004397   \n\n   del_vol_macro  rainfall  irrigation  recharge  ...  mflowmax  offset  \\\n0            0.0    0.0000         0.0  0.000000  ...       0.1     0.0   \n1            0.0    0.0708         0.0  0.034416  ...       0.1     0.0   \n2            0.0    0.0068         0.0  0.034382  ...       0.1     0.0   \n3            0.0    0.0218         0.0  0.016404  ...       0.1     0.0   \n4            0.0    0.1022         0.0  0.031681  ...       0.1     0.0   \n\n   factor1  factor2  power  elevmin  elevmax  surface   vol  \\\n0      2.0      3.0    0.5  -9999.0  10000.0      0.0  0.25   \n1      2.0      3.0    0.5  -9999.0  10000.0      0.0  0.25   \n2      2.0      3.0    0.5  -9999.0  10000.0      0.0  0.25   \n3      2.0      3.0    0.5  -9999.0  10000.0      0.0  0.25   \n4      2.0      3.0    0.5  -9999.0  10000.0      0.0  0.25   \n\n                                           workspace  \n0  c:\\Users\\rui2h\\Documents\\GitHub\\lumpyrem\\examp...  \n1  c:\\Users\\rui2h\\Documents\\GitHub\\lumpyrem\\examp...  \n2  c:\\Users\\rui2h\\Documents\\GitHub\\lumpyrem\\examp...  \n3  c:\\Users\\rui2h\\Documents\\GitHub\\lumpyrem\\examp...  \n4  c:\\Users\\rui2h\\Documents\\GitHub\\lumpyrem\\examp...  \n\n[5 rows x 43 columns]",
      "text/html": "<div>\n<style scoped>\n    .dataframe tbody tr th:only-of-type {\n        vertical-align: middle;\n    }\n\n    .dataframe tbody tr th {\n        vertical-align: top;\n    }\n\n    .dataframe thead th {\n        text-align: right;\n    }\n</style>\n<table border=\"1\" class=\"dataframe\">\n  <thead>\n    <tr style=\"text-align: right;\">\n      <th></th>\n      <th>days</th>\n      <th>volume</th>\n      <th>vol_drain</th>\n      <th>vol_macro</th>\n      <th>delta_vol</th>\n      <th>del_vol_drain</th>\n      <th>del_vol_macro</th>\n      <th>rainfall</th>\n      <th>irrigation</th>\n      <th>recharge</th>\n      <th>...</th>\n      <th>mflowmax</th>\n      <th>offset</th>\n      <th>factor1</th>\n      <th>factor2</th>\n      <th>power</th>\n      <th>elevmin</th>\n      <th>elevmax</th>\n      <th>surface</th>\n      <th>vol</th>\n      <th>workspace</th>\n    </tr>\n  </thead>\n  <tbody>\n    <tr>\n      <th>0</th>\n      <td>0.0</td>\n      <td>0.250000</td>\n      <td>0.000000</td>\n      <td>0.0</td>\n      <td>0.000000</td>\n      <td>0.000000</td>\n      <td>0.0</td>\n      <td>0.0000</td>\n      <td>0.0</td>\n      <td>0.000000</td>\n      <td>...</td>\n      <td>0.1</td>\n      <td>0.0</td>\n      <td>2.0</td>\n      <td>3.0</td>\n      <td>0.5</td>\n      <td>-9999.0</td>\n      <td>10000.0</td>\n      <td>0.0</td>\n      <td>0.25</td>\n      <td>c:\\Users\\rui2h\\Documents\\GitHub\\lumpyrem\\examp...</td>\n    </tr>\n    <tr>\n      <th>1</th>\n      <td>31.0</td>\n      <td>0.260354</td>\n      <td>0.008317</td>\n      <td>0.0</td>\n      <td>0.010354</td>\n      <td>0.008317</td>\n      <td>0.0</td>\n      <td>0.0708</td>\n      <td>0.0</td>\n      <td>0.034416</td>\n      <td>...</td>\n      <td>0.1</td>\n      <td>0.0</td>\n      <td>2.0</td>\n      <td>3.0</td>\n      <td>0.5</td>\n      <td>-9999.0</td>\n      <td>10000.0</td>\n      <td>0.0</td>\n      <td>0.25</td>\n      <td>c:\\Users\\rui2h\\Documents\\GitHub\\lumpyrem\\examp...</td>\n    </tr>\n    <tr>\n      <th>2</th>\n      <td>59.0</td>\n      <td>0.218230</td>\n      <td>0.003553</td>\n      <td>0.0</td>\n      <td>-0.042124</td>\n      <td>-0.004764</td>\n      <td>0.0</td>\n      <td>0.0068</td>\n      <td>0.0</td>\n      <td>0.034382</td>\n      <td>...</td>\n      <td>0.1</td>\n      <td>0.0</td>\n      <td>2.0</td>\n      <td>3.0</td>\n      <td>0.5</td>\n      <td>-9999.0</td>\n      <td>10000.0</td>\n      <td>0.0</td>\n      <td>0.25</td>\n      <td>c:\\Users\\rui2h\\Documents\\GitHub\\lumpyrem\\examp...</td>\n    </tr>\n    <tr>\n      <th>3</th>\n      <td>90.0</td>\n      <td>0.204296</td>\n      <td>0.001994</td>\n      <td>0.0</td>\n      <td>-0.013934</td>\n      <td>-0.001559</td>\n      <td>0.0</td>\n      <td>0.0218</td>\n      <td>0.0</td>\n      <td>0.016404</td>\n      <td>...</td>\n      <td>0.1</td>\n      <td>0.0</td>\n      <td>2.0</td>\n      <td>3.0</td>\n      <td>0.5</td>\n      <td>-9999.0</td>\n      <td>10000.0</td>\n      <td>0.0</td>\n      <td>0.25</td>\n      <td>c:\\Users\\rui2h\\Documents\\GitHub\\lumpyrem\\examp...</td>\n    </tr>\n    <tr>\n      <th>4</th>\n      <td>120.0</td>\n      <td>0.247053</td>\n      <td>0.006391</td>\n      <td>0.0</td>\n      <td>0.042758</td>\n      <td>0.004397</td>\n      <td>0.0</td>\n      <td>0.1022</td>\n      <td>0.0</td>\n      <td>0.031681</td>\n      <td>...</td>\n      <td>0.1</td>\n      <td>0.0</td>\n      <td>2.0</td>\n      <td>3.0</td>\n      <td>0.5</td>\n      <td>-9999.0</td>\n      <td>10000.0</td>\n      <td>0.0</td>\n      <td>0.25</td>\n      <td>c:\\Users\\rui2h\\Documents\\GitHub\\lumpyrem\\examp...</td>\n    </tr>\n  </tbody>\n</table>\n<p>5 rows × 43 columns</p>\n</div>"
     },
     "metadata": {},
     "execution_count": 3
    }
   ],
   "source": [
    "# get model results\n",
    "results = b.get_results()\n",
    "results.head()"
   ]
  },
  {
   "cell_type": "code",
   "execution_count": 4,
   "metadata": {
    "tags": []
   },
   "outputs": [
    {
     "output_type": "stream",
     "name": "stdout",
     "text": "Irrigation input file written to: \nc:\\Users\\rui2h\\Documents\\GitHub\\lumpyrem\\examples\\workspace\\irrig.in\n\nFile: irrig.in\n1 0 0.0\n150 1 0.5\n259 0 0.0\n515 1 0.5\n624 0 0.0\n880 1 0.5\n989 0 0.0\n1245 1 0.5\n1354 0 0.0\n1611 1 0.5\n1720 0 0.0\n1976 1 0.5\n2085 0 0.0\n2341 1 0.5\n2450 0 0.0\n2706 1 0.5\n2815 0 0.0\n3072 1 0.5\n3181 0 0.0\n3437 1 0.5\n3546 0 0.0\n\n"
    }
   ],
   "source": [
    "# write an irrigation file\n",
    "b.write_irigfile(3650, 150, 0.3) # number of days, day on which irrigation starts, and fraction of the year with irrigation\n",
    "\n",
    "# take a look at the file\n",
    "\n",
    "\n",
    "def printfile(filename):\n",
    "    print('\\nFile: '+os.path.basename(filename))\n",
    "    f = open(filename,'r')\n",
    "    print(f.read())\n",
    "    f.close()\n",
    "    return\n",
    "\n",
    "filename = os.path.join(workspace,'irrig.in')\n",
    "printfile(filename)"
   ]
  },
  {
   "cell_type": "code",
   "execution_count": 5,
   "metadata": {
    "tags": []
   },
   "outputs": [
    {
     "output_type": "stream",
     "name": "stdout",
     "text": "Irrigation input file written to: \nc:\\Users\\rui2h\\Documents\\GitHub\\lumpyrem\\examples\\workspace\\irrig_dates.in\n"
    }
   ],
   "source": [
    "# write an irrigation file for a specified start date\n",
    "\n",
    "b.write_irigfile(3650, 150, 0.3, date_start='01/01/2010', irrigfile='irrig_dates.in')"
   ]
  },
  {
   "cell_type": "code",
   "execution_count": 6,
   "metadata": {
    "tags": []
   },
   "outputs": [
    {
     "output_type": "stream",
     "name": "stdout",
     "text": "\nFile: irrig.in\n1 0 0.0\n150 1 0.5\n259 0 0.0\n515 1 0.5\n624 0 0.0\n880 1 0.5\n989 0 0.0\n1245 1 0.5\n1354 0 0.0\n1611 1 0.5\n1720 0 0.0\n1976 1 0.5\n2085 0 0.0\n2341 1 0.5\n2450 0 0.0\n2706 1 0.5\n2815 0 0.0\n3072 1 0.5\n3181 0 0.0\n3437 1 0.5\n3546 0 0.0\n\n"
    }
   ],
   "source": [
    "# take a look at the file\n",
    "filename = os.path.join(workspace,'irrig.in')\n",
    "printfile(filename)"
   ]
  },
  {
   "cell_type": "code",
   "execution_count": 7,
   "metadata": {
    "tags": []
   },
   "outputs": [
    {
     "output_type": "stream",
     "name": "stdout",
     "text": "LUMPREM model input file written to: \nc:\\Users\\rui2h\\Documents\\GitHub\\lumpyrem\\examples\\workspace\\lr_ghj.in\n\n Enter name of LUMPREM2 control file:  Enter name for LUMPREM2 output file:  \n - file lr_ghj.in read ok.\n \n Cannot open vegetation file.\n\n"
    },
    {
     "output_type": "execute_result",
     "data": {
      "text/plain": "<matplotlib.axes._subplots.AxesSubplot at 0x233217fd940>"
     },
     "metadata": {},
     "execution_count": 7
    }
   ],
   "source": [
    "# make a model with an irrig in file\n",
    "c = lr.lumprem.Model('ghj', workspace=workspace)\n",
    "c.irrigfile = 'irrig_dates.in'\n",
    "\n",
    "c.write_model(numdays=3650)\n",
    "c.run_model()\n",
    "results = c.get_results()\n",
    "results.plot('days','irrigation')\n",
    "results.plot('days', 'net_recharge')"
   ]
  },
  {
   "cell_type": "code",
   "execution_count": 8,
   "metadata": {},
   "outputs": [
    {
     "output_type": "execute_result",
     "data": {
      "text/plain": "Index(['days', 'volume', 'vol_drain', 'vol_macro', 'delta_vol',\n       'del_vol_drain', 'del_vol_macro', 'rainfall', 'irrigation', 'recharge',\n       'macro_rech', 'total_rech', 'gw_withdrawal', 'net_recharge', 'runoff',\n       'pot_evap', 'evaporation', 'gw_pot_evap', 'balance', 'elevation',\n       'depth-to-water', 'lumprem_model_name', 'rainfile', 'epotfile',\n       'vegfile', 'irrigfile', 'maxvol', 'irrigvolfrac', 'rdelay', 'mdelay',\n       'ks', 'M', 'L', 'mflowmax', 'offset', 'factor1', 'factor2', 'power',\n       'elevmin', 'elevmax', 'surface', 'vol', 'workspace'],\n      dtype='object')"
     },
     "metadata": {},
     "execution_count": 8
    }
   ],
   "source": [
    "# see the names of columns in the LUMPREM output file\n",
    "results.columns"
   ]
  },
  {
   "source": [
    "## Creating head timeseries"
   ],
   "cell_type": "markdown",
   "metadata": {}
  },
  {
   "cell_type": "code",
   "execution_count": 20,
   "metadata": {
    "tags": []
   },
   "outputs": [
    {
     "output_type": "stream",
     "name": "stdout",
     "text": "LUMPREM model input file written to: \nc:\\Users\\rui2h\\Documents\\GitHub\\lumpyrem\\examples\\workspace\\lr_ghb.in\n\n Enter name of LUMPREM2 control file:  Enter name for LUMPREM2 output file:  \n - file lr_ghb.in read ok.\n - file lr_ghb.out written ok.\n\n"
    },
    {
     "output_type": "execute_result",
     "data": {
      "text/plain": "<matplotlib.axes._subplots.AxesSubplot at 0x23324a91e80>"
     },
     "metadata": {},
     "execution_count": 20
    },
    {
     "output_type": "display_data",
     "data": {
      "text/plain": "<Figure size 432x288 with 1 Axes>",
      "image/svg+xml": "<?xml version=\"1.0\" encoding=\"utf-8\" standalone=\"no\"?>\r\n<!DOCTYPE svg PUBLIC \"-//W3C//DTD SVG 1.1//EN\"\r\n  \"http://www.w3.org/Graphics/SVG/1.1/DTD/svg11.dtd\">\r\n<!-- Created with matplotlib (https://matplotlib.org/) -->\r\n<svg height=\"265.69625pt\" version=\"1.1\" viewBox=\"0 0 392.465625 265.69625\" width=\"392.465625pt\" xmlns=\"http://www.w3.org/2000/svg\" xmlns:xlink=\"http://www.w3.org/1999/xlink\">\r\n <defs>\r\n  <style type=\"text/css\">\r\n*{stroke-linecap:butt;stroke-linejoin:round;}\r\n  </style>\r\n </defs>\r\n <g id=\"figure_1\">\r\n  <g id=\"patch_1\">\r\n   <path d=\"M 0 265.69625 \r\nL 392.465625 265.69625 \r\nL 392.465625 0 \r\nL 0 0 \r\nz\r\n\" style=\"fill:none;\"/>\r\n  </g>\r\n  <g id=\"axes_1\">\r\n   <g id=\"patch_2\">\r\n    <path d=\"M 46.965625 228.14 \r\nL 381.765625 228.14 \r\nL 381.765625 10.7 \r\nL 46.965625 10.7 \r\nz\r\n\" style=\"fill:#ffffff;\"/>\r\n   </g>\r\n   <g id=\"matplotlib.axis_1\">\r\n    <g id=\"xtick_1\">\r\n     <g id=\"line2d_1\">\r\n      <defs>\r\n       <path d=\"M 0 0 \r\nL 0 3.5 \r\n\" id=\"m842f0b4ad3\" style=\"stroke:#000000;stroke-width:0.8;\"/>\r\n      </defs>\r\n      <g>\r\n       <use style=\"stroke:#000000;stroke-width:0.8;\" x=\"62.183807\" xlink:href=\"#m842f0b4ad3\" y=\"228.14\"/>\r\n      </g>\r\n     </g>\r\n     <g id=\"text_1\">\r\n      <!-- 0 -->\r\n      <defs>\r\n       <path d=\"M 31.78125 66.40625 \r\nQ 24.171875 66.40625 20.328125 58.90625 \r\nQ 16.5 51.421875 16.5 36.375 \r\nQ 16.5 21.390625 20.328125 13.890625 \r\nQ 24.171875 6.390625 31.78125 6.390625 \r\nQ 39.453125 6.390625 43.28125 13.890625 \r\nQ 47.125 21.390625 47.125 36.375 \r\nQ 47.125 51.421875 43.28125 58.90625 \r\nQ 39.453125 66.40625 31.78125 66.40625 \r\nz\r\nM 31.78125 74.21875 \r\nQ 44.046875 74.21875 50.515625 64.515625 \r\nQ 56.984375 54.828125 56.984375 36.375 \r\nQ 56.984375 17.96875 50.515625 8.265625 \r\nQ 44.046875 -1.421875 31.78125 -1.421875 \r\nQ 19.53125 -1.421875 13.0625 8.265625 \r\nQ 6.59375 17.96875 6.59375 36.375 \r\nQ 6.59375 54.828125 13.0625 64.515625 \r\nQ 19.53125 74.21875 31.78125 74.21875 \r\nz\r\n\" id=\"DejaVuSans-48\"/>\r\n      </defs>\r\n      <g transform=\"translate(59.002557 242.738437)scale(0.1 -0.1)\">\r\n       <use xlink:href=\"#DejaVuSans-48\"/>\r\n      </g>\r\n     </g>\r\n    </g>\r\n    <g id=\"xtick_2\">\r\n     <g id=\"line2d_2\">\r\n      <g>\r\n       <use style=\"stroke:#000000;stroke-width:0.8;\" x=\"103.877456\" xlink:href=\"#m842f0b4ad3\" y=\"228.14\"/>\r\n      </g>\r\n     </g>\r\n     <g id=\"text_2\">\r\n      <!-- 500 -->\r\n      <defs>\r\n       <path d=\"M 10.796875 72.90625 \r\nL 49.515625 72.90625 \r\nL 49.515625 64.59375 \r\nL 19.828125 64.59375 \r\nL 19.828125 46.734375 \r\nQ 21.96875 47.46875 24.109375 47.828125 \r\nQ 26.265625 48.1875 28.421875 48.1875 \r\nQ 40.625 48.1875 47.75 41.5 \r\nQ 54.890625 34.8125 54.890625 23.390625 \r\nQ 54.890625 11.625 47.5625 5.09375 \r\nQ 40.234375 -1.421875 26.90625 -1.421875 \r\nQ 22.3125 -1.421875 17.546875 -0.640625 \r\nQ 12.796875 0.140625 7.71875 1.703125 \r\nL 7.71875 11.625 \r\nQ 12.109375 9.234375 16.796875 8.0625 \r\nQ 21.484375 6.890625 26.703125 6.890625 \r\nQ 35.15625 6.890625 40.078125 11.328125 \r\nQ 45.015625 15.765625 45.015625 23.390625 \r\nQ 45.015625 31 40.078125 35.4375 \r\nQ 35.15625 39.890625 26.703125 39.890625 \r\nQ 22.75 39.890625 18.8125 39.015625 \r\nQ 14.890625 38.140625 10.796875 36.28125 \r\nz\r\n\" id=\"DejaVuSans-53\"/>\r\n      </defs>\r\n      <g transform=\"translate(94.333706 242.738437)scale(0.1 -0.1)\">\r\n       <use xlink:href=\"#DejaVuSans-53\"/>\r\n       <use x=\"63.623047\" xlink:href=\"#DejaVuSans-48\"/>\r\n       <use x=\"127.246094\" xlink:href=\"#DejaVuSans-48\"/>\r\n      </g>\r\n     </g>\r\n    </g>\r\n    <g id=\"xtick_3\">\r\n     <g id=\"line2d_3\">\r\n      <g>\r\n       <use style=\"stroke:#000000;stroke-width:0.8;\" x=\"145.571104\" xlink:href=\"#m842f0b4ad3\" y=\"228.14\"/>\r\n      </g>\r\n     </g>\r\n     <g id=\"text_3\">\r\n      <!-- 1000 -->\r\n      <defs>\r\n       <path d=\"M 12.40625 8.296875 \r\nL 28.515625 8.296875 \r\nL 28.515625 63.921875 \r\nL 10.984375 60.40625 \r\nL 10.984375 69.390625 \r\nL 28.421875 72.90625 \r\nL 38.28125 72.90625 \r\nL 38.28125 8.296875 \r\nL 54.390625 8.296875 \r\nL 54.390625 0 \r\nL 12.40625 0 \r\nz\r\n\" id=\"DejaVuSans-49\"/>\r\n      </defs>\r\n      <g transform=\"translate(132.846104 242.738437)scale(0.1 -0.1)\">\r\n       <use xlink:href=\"#DejaVuSans-49\"/>\r\n       <use x=\"63.623047\" xlink:href=\"#DejaVuSans-48\"/>\r\n       <use x=\"127.246094\" xlink:href=\"#DejaVuSans-48\"/>\r\n       <use x=\"190.869141\" xlink:href=\"#DejaVuSans-48\"/>\r\n      </g>\r\n     </g>\r\n    </g>\r\n    <g id=\"xtick_4\">\r\n     <g id=\"line2d_4\">\r\n      <g>\r\n       <use style=\"stroke:#000000;stroke-width:0.8;\" x=\"187.264753\" xlink:href=\"#m842f0b4ad3\" y=\"228.14\"/>\r\n      </g>\r\n     </g>\r\n     <g id=\"text_4\">\r\n      <!-- 1500 -->\r\n      <g transform=\"translate(174.539753 242.738437)scale(0.1 -0.1)\">\r\n       <use xlink:href=\"#DejaVuSans-49\"/>\r\n       <use x=\"63.623047\" xlink:href=\"#DejaVuSans-53\"/>\r\n       <use x=\"127.246094\" xlink:href=\"#DejaVuSans-48\"/>\r\n       <use x=\"190.869141\" xlink:href=\"#DejaVuSans-48\"/>\r\n      </g>\r\n     </g>\r\n    </g>\r\n    <g id=\"xtick_5\">\r\n     <g id=\"line2d_5\">\r\n      <g>\r\n       <use style=\"stroke:#000000;stroke-width:0.8;\" x=\"228.958402\" xlink:href=\"#m842f0b4ad3\" y=\"228.14\"/>\r\n      </g>\r\n     </g>\r\n     <g id=\"text_5\">\r\n      <!-- 2000 -->\r\n      <defs>\r\n       <path d=\"M 19.1875 8.296875 \r\nL 53.609375 8.296875 \r\nL 53.609375 0 \r\nL 7.328125 0 \r\nL 7.328125 8.296875 \r\nQ 12.9375 14.109375 22.625 23.890625 \r\nQ 32.328125 33.6875 34.8125 36.53125 \r\nQ 39.546875 41.84375 41.421875 45.53125 \r\nQ 43.3125 49.21875 43.3125 52.78125 \r\nQ 43.3125 58.59375 39.234375 62.25 \r\nQ 35.15625 65.921875 28.609375 65.921875 \r\nQ 23.96875 65.921875 18.8125 64.3125 \r\nQ 13.671875 62.703125 7.8125 59.421875 \r\nL 7.8125 69.390625 \r\nQ 13.765625 71.78125 18.9375 73 \r\nQ 24.125 74.21875 28.421875 74.21875 \r\nQ 39.75 74.21875 46.484375 68.546875 \r\nQ 53.21875 62.890625 53.21875 53.421875 \r\nQ 53.21875 48.921875 51.53125 44.890625 \r\nQ 49.859375 40.875 45.40625 35.40625 \r\nQ 44.1875 33.984375 37.640625 27.21875 \r\nQ 31.109375 20.453125 19.1875 8.296875 \r\nz\r\n\" id=\"DejaVuSans-50\"/>\r\n      </defs>\r\n      <g transform=\"translate(216.233402 242.738437)scale(0.1 -0.1)\">\r\n       <use xlink:href=\"#DejaVuSans-50\"/>\r\n       <use x=\"63.623047\" xlink:href=\"#DejaVuSans-48\"/>\r\n       <use x=\"127.246094\" xlink:href=\"#DejaVuSans-48\"/>\r\n       <use x=\"190.869141\" xlink:href=\"#DejaVuSans-48\"/>\r\n      </g>\r\n     </g>\r\n    </g>\r\n    <g id=\"xtick_6\">\r\n     <g id=\"line2d_6\">\r\n      <g>\r\n       <use style=\"stroke:#000000;stroke-width:0.8;\" x=\"270.652051\" xlink:href=\"#m842f0b4ad3\" y=\"228.14\"/>\r\n      </g>\r\n     </g>\r\n     <g id=\"text_6\">\r\n      <!-- 2500 -->\r\n      <g transform=\"translate(257.927051 242.738437)scale(0.1 -0.1)\">\r\n       <use xlink:href=\"#DejaVuSans-50\"/>\r\n       <use x=\"63.623047\" xlink:href=\"#DejaVuSans-53\"/>\r\n       <use x=\"127.246094\" xlink:href=\"#DejaVuSans-48\"/>\r\n       <use x=\"190.869141\" xlink:href=\"#DejaVuSans-48\"/>\r\n      </g>\r\n     </g>\r\n    </g>\r\n    <g id=\"xtick_7\">\r\n     <g id=\"line2d_7\">\r\n      <g>\r\n       <use style=\"stroke:#000000;stroke-width:0.8;\" x=\"312.3457\" xlink:href=\"#m842f0b4ad3\" y=\"228.14\"/>\r\n      </g>\r\n     </g>\r\n     <g id=\"text_7\">\r\n      <!-- 3000 -->\r\n      <defs>\r\n       <path d=\"M 40.578125 39.3125 \r\nQ 47.65625 37.796875 51.625 33 \r\nQ 55.609375 28.21875 55.609375 21.1875 \r\nQ 55.609375 10.40625 48.1875 4.484375 \r\nQ 40.765625 -1.421875 27.09375 -1.421875 \r\nQ 22.515625 -1.421875 17.65625 -0.515625 \r\nQ 12.796875 0.390625 7.625 2.203125 \r\nL 7.625 11.71875 \r\nQ 11.71875 9.328125 16.59375 8.109375 \r\nQ 21.484375 6.890625 26.8125 6.890625 \r\nQ 36.078125 6.890625 40.9375 10.546875 \r\nQ 45.796875 14.203125 45.796875 21.1875 \r\nQ 45.796875 27.640625 41.28125 31.265625 \r\nQ 36.765625 34.90625 28.71875 34.90625 \r\nL 20.21875 34.90625 \r\nL 20.21875 43.015625 \r\nL 29.109375 43.015625 \r\nQ 36.375 43.015625 40.234375 45.921875 \r\nQ 44.09375 48.828125 44.09375 54.296875 \r\nQ 44.09375 59.90625 40.109375 62.90625 \r\nQ 36.140625 65.921875 28.71875 65.921875 \r\nQ 24.65625 65.921875 20.015625 65.03125 \r\nQ 15.375 64.15625 9.8125 62.3125 \r\nL 9.8125 71.09375 \r\nQ 15.4375 72.65625 20.34375 73.4375 \r\nQ 25.25 74.21875 29.59375 74.21875 \r\nQ 40.828125 74.21875 47.359375 69.109375 \r\nQ 53.90625 64.015625 53.90625 55.328125 \r\nQ 53.90625 49.265625 50.4375 45.09375 \r\nQ 46.96875 40.921875 40.578125 39.3125 \r\nz\r\n\" id=\"DejaVuSans-51\"/>\r\n      </defs>\r\n      <g transform=\"translate(299.6207 242.738437)scale(0.1 -0.1)\">\r\n       <use xlink:href=\"#DejaVuSans-51\"/>\r\n       <use x=\"63.623047\" xlink:href=\"#DejaVuSans-48\"/>\r\n       <use x=\"127.246094\" xlink:href=\"#DejaVuSans-48\"/>\r\n       <use x=\"190.869141\" xlink:href=\"#DejaVuSans-48\"/>\r\n      </g>\r\n     </g>\r\n    </g>\r\n    <g id=\"xtick_8\">\r\n     <g id=\"line2d_8\">\r\n      <g>\r\n       <use style=\"stroke:#000000;stroke-width:0.8;\" x=\"354.039349\" xlink:href=\"#m842f0b4ad3\" y=\"228.14\"/>\r\n      </g>\r\n     </g>\r\n     <g id=\"text_8\">\r\n      <!-- 3500 -->\r\n      <g transform=\"translate(341.314349 242.738437)scale(0.1 -0.1)\">\r\n       <use xlink:href=\"#DejaVuSans-51\"/>\r\n       <use x=\"63.623047\" xlink:href=\"#DejaVuSans-53\"/>\r\n       <use x=\"127.246094\" xlink:href=\"#DejaVuSans-48\"/>\r\n       <use x=\"190.869141\" xlink:href=\"#DejaVuSans-48\"/>\r\n      </g>\r\n     </g>\r\n    </g>\r\n    <g id=\"text_9\">\r\n     <!-- days -->\r\n     <defs>\r\n      <path d=\"M 45.40625 46.390625 \r\nL 45.40625 75.984375 \r\nL 54.390625 75.984375 \r\nL 54.390625 0 \r\nL 45.40625 0 \r\nL 45.40625 8.203125 \r\nQ 42.578125 3.328125 38.25 0.953125 \r\nQ 33.9375 -1.421875 27.875 -1.421875 \r\nQ 17.96875 -1.421875 11.734375 6.484375 \r\nQ 5.515625 14.40625 5.515625 27.296875 \r\nQ 5.515625 40.1875 11.734375 48.09375 \r\nQ 17.96875 56 27.875 56 \r\nQ 33.9375 56 38.25 53.625 \r\nQ 42.578125 51.265625 45.40625 46.390625 \r\nz\r\nM 14.796875 27.296875 \r\nQ 14.796875 17.390625 18.875 11.75 \r\nQ 22.953125 6.109375 30.078125 6.109375 \r\nQ 37.203125 6.109375 41.296875 11.75 \r\nQ 45.40625 17.390625 45.40625 27.296875 \r\nQ 45.40625 37.203125 41.296875 42.84375 \r\nQ 37.203125 48.484375 30.078125 48.484375 \r\nQ 22.953125 48.484375 18.875 42.84375 \r\nQ 14.796875 37.203125 14.796875 27.296875 \r\nz\r\n\" id=\"DejaVuSans-100\"/>\r\n      <path d=\"M 34.28125 27.484375 \r\nQ 23.390625 27.484375 19.1875 25 \r\nQ 14.984375 22.515625 14.984375 16.5 \r\nQ 14.984375 11.71875 18.140625 8.90625 \r\nQ 21.296875 6.109375 26.703125 6.109375 \r\nQ 34.1875 6.109375 38.703125 11.40625 \r\nQ 43.21875 16.703125 43.21875 25.484375 \r\nL 43.21875 27.484375 \r\nz\r\nM 52.203125 31.203125 \r\nL 52.203125 0 \r\nL 43.21875 0 \r\nL 43.21875 8.296875 \r\nQ 40.140625 3.328125 35.546875 0.953125 \r\nQ 30.953125 -1.421875 24.3125 -1.421875 \r\nQ 15.921875 -1.421875 10.953125 3.296875 \r\nQ 6 8.015625 6 15.921875 \r\nQ 6 25.140625 12.171875 29.828125 \r\nQ 18.359375 34.515625 30.609375 34.515625 \r\nL 43.21875 34.515625 \r\nL 43.21875 35.40625 \r\nQ 43.21875 41.609375 39.140625 45 \r\nQ 35.0625 48.390625 27.6875 48.390625 \r\nQ 23 48.390625 18.546875 47.265625 \r\nQ 14.109375 46.140625 10.015625 43.890625 \r\nL 10.015625 52.203125 \r\nQ 14.9375 54.109375 19.578125 55.046875 \r\nQ 24.21875 56 28.609375 56 \r\nQ 40.484375 56 46.34375 49.84375 \r\nQ 52.203125 43.703125 52.203125 31.203125 \r\nz\r\n\" id=\"DejaVuSans-97\"/>\r\n      <path d=\"M 32.171875 -5.078125 \r\nQ 28.375 -14.84375 24.75 -17.8125 \r\nQ 21.140625 -20.796875 15.09375 -20.796875 \r\nL 7.90625 -20.796875 \r\nL 7.90625 -13.28125 \r\nL 13.1875 -13.28125 \r\nQ 16.890625 -13.28125 18.9375 -11.515625 \r\nQ 21 -9.765625 23.484375 -3.21875 \r\nL 25.09375 0.875 \r\nL 2.984375 54.6875 \r\nL 12.5 54.6875 \r\nL 29.59375 11.921875 \r\nL 46.6875 54.6875 \r\nL 56.203125 54.6875 \r\nz\r\n\" id=\"DejaVuSans-121\"/>\r\n      <path d=\"M 44.28125 53.078125 \r\nL 44.28125 44.578125 \r\nQ 40.484375 46.53125 36.375 47.5 \r\nQ 32.28125 48.484375 27.875 48.484375 \r\nQ 21.1875 48.484375 17.84375 46.4375 \r\nQ 14.5 44.390625 14.5 40.28125 \r\nQ 14.5 37.15625 16.890625 35.375 \r\nQ 19.28125 33.59375 26.515625 31.984375 \r\nL 29.59375 31.296875 \r\nQ 39.15625 29.25 43.1875 25.515625 \r\nQ 47.21875 21.78125 47.21875 15.09375 \r\nQ 47.21875 7.46875 41.1875 3.015625 \r\nQ 35.15625 -1.421875 24.609375 -1.421875 \r\nQ 20.21875 -1.421875 15.453125 -0.5625 \r\nQ 10.6875 0.296875 5.421875 2 \r\nL 5.421875 11.28125 \r\nQ 10.40625 8.6875 15.234375 7.390625 \r\nQ 20.0625 6.109375 24.8125 6.109375 \r\nQ 31.15625 6.109375 34.5625 8.28125 \r\nQ 37.984375 10.453125 37.984375 14.40625 \r\nQ 37.984375 18.0625 35.515625 20.015625 \r\nQ 33.0625 21.96875 24.703125 23.78125 \r\nL 21.578125 24.515625 \r\nQ 13.234375 26.265625 9.515625 29.90625 \r\nQ 5.8125 33.546875 5.8125 39.890625 \r\nQ 5.8125 47.609375 11.28125 51.796875 \r\nQ 16.75 56 26.8125 56 \r\nQ 31.78125 56 36.171875 55.265625 \r\nQ 40.578125 54.546875 44.28125 53.078125 \r\nz\r\n\" id=\"DejaVuSans-115\"/>\r\n     </defs>\r\n     <g transform=\"translate(202.563281 256.416562)scale(0.1 -0.1)\">\r\n      <use xlink:href=\"#DejaVuSans-100\"/>\r\n      <use x=\"63.476562\" xlink:href=\"#DejaVuSans-97\"/>\r\n      <use x=\"124.755859\" xlink:href=\"#DejaVuSans-121\"/>\r\n      <use x=\"183.935547\" xlink:href=\"#DejaVuSans-115\"/>\r\n     </g>\r\n    </g>\r\n   </g>\r\n   <g id=\"matplotlib.axis_2\">\r\n    <g id=\"ytick_1\">\r\n     <g id=\"line2d_9\">\r\n      <defs>\r\n       <path d=\"M 0 0 \r\nL -3.5 0 \r\n\" id=\"m04cd0278ab\" style=\"stroke:#000000;stroke-width:0.8;\"/>\r\n      </defs>\r\n      <g>\r\n       <use style=\"stroke:#000000;stroke-width:0.8;\" x=\"46.965625\" xlink:href=\"#m04cd0278ab\" y=\"227.95791\"/>\r\n      </g>\r\n     </g>\r\n     <g id=\"text_10\">\r\n      <!-- 144 -->\r\n      <defs>\r\n       <path d=\"M 37.796875 64.3125 \r\nL 12.890625 25.390625 \r\nL 37.796875 25.390625 \r\nz\r\nM 35.203125 72.90625 \r\nL 47.609375 72.90625 \r\nL 47.609375 25.390625 \r\nL 58.015625 25.390625 \r\nL 58.015625 17.1875 \r\nL 47.609375 17.1875 \r\nL 47.609375 0 \r\nL 37.796875 0 \r\nL 37.796875 17.1875 \r\nL 4.890625 17.1875 \r\nL 4.890625 26.703125 \r\nz\r\n\" id=\"DejaVuSans-52\"/>\r\n      </defs>\r\n      <g transform=\"translate(20.878125 231.757129)scale(0.1 -0.1)\">\r\n       <use xlink:href=\"#DejaVuSans-49\"/>\r\n       <use x=\"63.623047\" xlink:href=\"#DejaVuSans-52\"/>\r\n       <use x=\"127.246094\" xlink:href=\"#DejaVuSans-52\"/>\r\n      </g>\r\n     </g>\r\n    </g>\r\n    <g id=\"ytick_2\">\r\n     <g id=\"line2d_10\">\r\n      <g>\r\n       <use style=\"stroke:#000000;stroke-width:0.8;\" x=\"46.965625\" xlink:href=\"#m04cd0278ab\" y=\"202.010835\"/>\r\n      </g>\r\n     </g>\r\n     <g id=\"text_11\">\r\n      <!-- 146 -->\r\n      <defs>\r\n       <path d=\"M 33.015625 40.375 \r\nQ 26.375 40.375 22.484375 35.828125 \r\nQ 18.609375 31.296875 18.609375 23.390625 \r\nQ 18.609375 15.53125 22.484375 10.953125 \r\nQ 26.375 6.390625 33.015625 6.390625 \r\nQ 39.65625 6.390625 43.53125 10.953125 \r\nQ 47.40625 15.53125 47.40625 23.390625 \r\nQ 47.40625 31.296875 43.53125 35.828125 \r\nQ 39.65625 40.375 33.015625 40.375 \r\nz\r\nM 52.59375 71.296875 \r\nL 52.59375 62.3125 \r\nQ 48.875 64.0625 45.09375 64.984375 \r\nQ 41.3125 65.921875 37.59375 65.921875 \r\nQ 27.828125 65.921875 22.671875 59.328125 \r\nQ 17.53125 52.734375 16.796875 39.40625 \r\nQ 19.671875 43.65625 24.015625 45.921875 \r\nQ 28.375 48.1875 33.59375 48.1875 \r\nQ 44.578125 48.1875 50.953125 41.515625 \r\nQ 57.328125 34.859375 57.328125 23.390625 \r\nQ 57.328125 12.15625 50.6875 5.359375 \r\nQ 44.046875 -1.421875 33.015625 -1.421875 \r\nQ 20.359375 -1.421875 13.671875 8.265625 \r\nQ 6.984375 17.96875 6.984375 36.375 \r\nQ 6.984375 53.65625 15.1875 63.9375 \r\nQ 23.390625 74.21875 37.203125 74.21875 \r\nQ 40.921875 74.21875 44.703125 73.484375 \r\nQ 48.484375 72.75 52.59375 71.296875 \r\nz\r\n\" id=\"DejaVuSans-54\"/>\r\n      </defs>\r\n      <g transform=\"translate(20.878125 205.810054)scale(0.1 -0.1)\">\r\n       <use xlink:href=\"#DejaVuSans-49\"/>\r\n       <use x=\"63.623047\" xlink:href=\"#DejaVuSans-52\"/>\r\n       <use x=\"127.246094\" xlink:href=\"#DejaVuSans-54\"/>\r\n      </g>\r\n     </g>\r\n    </g>\r\n    <g id=\"ytick_3\">\r\n     <g id=\"line2d_11\">\r\n      <g>\r\n       <use style=\"stroke:#000000;stroke-width:0.8;\" x=\"46.965625\" xlink:href=\"#m04cd0278ab\" y=\"176.063761\"/>\r\n      </g>\r\n     </g>\r\n     <g id=\"text_12\">\r\n      <!-- 148 -->\r\n      <defs>\r\n       <path d=\"M 31.78125 34.625 \r\nQ 24.75 34.625 20.71875 30.859375 \r\nQ 16.703125 27.09375 16.703125 20.515625 \r\nQ 16.703125 13.921875 20.71875 10.15625 \r\nQ 24.75 6.390625 31.78125 6.390625 \r\nQ 38.8125 6.390625 42.859375 10.171875 \r\nQ 46.921875 13.96875 46.921875 20.515625 \r\nQ 46.921875 27.09375 42.890625 30.859375 \r\nQ 38.875 34.625 31.78125 34.625 \r\nz\r\nM 21.921875 38.8125 \r\nQ 15.578125 40.375 12.03125 44.71875 \r\nQ 8.5 49.078125 8.5 55.328125 \r\nQ 8.5 64.0625 14.71875 69.140625 \r\nQ 20.953125 74.21875 31.78125 74.21875 \r\nQ 42.671875 74.21875 48.875 69.140625 \r\nQ 55.078125 64.0625 55.078125 55.328125 \r\nQ 55.078125 49.078125 51.53125 44.71875 \r\nQ 48 40.375 41.703125 38.8125 \r\nQ 48.828125 37.15625 52.796875 32.3125 \r\nQ 56.78125 27.484375 56.78125 20.515625 \r\nQ 56.78125 9.90625 50.3125 4.234375 \r\nQ 43.84375 -1.421875 31.78125 -1.421875 \r\nQ 19.734375 -1.421875 13.25 4.234375 \r\nQ 6.78125 9.90625 6.78125 20.515625 \r\nQ 6.78125 27.484375 10.78125 32.3125 \r\nQ 14.796875 37.15625 21.921875 38.8125 \r\nz\r\nM 18.3125 54.390625 \r\nQ 18.3125 48.734375 21.84375 45.5625 \r\nQ 25.390625 42.390625 31.78125 42.390625 \r\nQ 38.140625 42.390625 41.71875 45.5625 \r\nQ 45.3125 48.734375 45.3125 54.390625 \r\nQ 45.3125 60.0625 41.71875 63.234375 \r\nQ 38.140625 66.40625 31.78125 66.40625 \r\nQ 25.390625 66.40625 21.84375 63.234375 \r\nQ 18.3125 60.0625 18.3125 54.390625 \r\nz\r\n\" id=\"DejaVuSans-56\"/>\r\n      </defs>\r\n      <g transform=\"translate(20.878125 179.86298)scale(0.1 -0.1)\">\r\n       <use xlink:href=\"#DejaVuSans-49\"/>\r\n       <use x=\"63.623047\" xlink:href=\"#DejaVuSans-52\"/>\r\n       <use x=\"127.246094\" xlink:href=\"#DejaVuSans-56\"/>\r\n      </g>\r\n     </g>\r\n    </g>\r\n    <g id=\"ytick_4\">\r\n     <g id=\"line2d_12\">\r\n      <g>\r\n       <use style=\"stroke:#000000;stroke-width:0.8;\" x=\"46.965625\" xlink:href=\"#m04cd0278ab\" y=\"150.116686\"/>\r\n      </g>\r\n     </g>\r\n     <g id=\"text_13\">\r\n      <!-- 150 -->\r\n      <g transform=\"translate(20.878125 153.915905)scale(0.1 -0.1)\">\r\n       <use xlink:href=\"#DejaVuSans-49\"/>\r\n       <use x=\"63.623047\" xlink:href=\"#DejaVuSans-53\"/>\r\n       <use x=\"127.246094\" xlink:href=\"#DejaVuSans-48\"/>\r\n      </g>\r\n     </g>\r\n    </g>\r\n    <g id=\"ytick_5\">\r\n     <g id=\"line2d_13\">\r\n      <g>\r\n       <use style=\"stroke:#000000;stroke-width:0.8;\" x=\"46.965625\" xlink:href=\"#m04cd0278ab\" y=\"124.169612\"/>\r\n      </g>\r\n     </g>\r\n     <g id=\"text_14\">\r\n      <!-- 152 -->\r\n      <g transform=\"translate(20.878125 127.968831)scale(0.1 -0.1)\">\r\n       <use xlink:href=\"#DejaVuSans-49\"/>\r\n       <use x=\"63.623047\" xlink:href=\"#DejaVuSans-53\"/>\r\n       <use x=\"127.246094\" xlink:href=\"#DejaVuSans-50\"/>\r\n      </g>\r\n     </g>\r\n    </g>\r\n    <g id=\"ytick_6\">\r\n     <g id=\"line2d_14\">\r\n      <g>\r\n       <use style=\"stroke:#000000;stroke-width:0.8;\" x=\"46.965625\" xlink:href=\"#m04cd0278ab\" y=\"98.222538\"/>\r\n      </g>\r\n     </g>\r\n     <g id=\"text_15\">\r\n      <!-- 154 -->\r\n      <g transform=\"translate(20.878125 102.021756)scale(0.1 -0.1)\">\r\n       <use xlink:href=\"#DejaVuSans-49\"/>\r\n       <use x=\"63.623047\" xlink:href=\"#DejaVuSans-53\"/>\r\n       <use x=\"127.246094\" xlink:href=\"#DejaVuSans-52\"/>\r\n      </g>\r\n     </g>\r\n    </g>\r\n    <g id=\"ytick_7\">\r\n     <g id=\"line2d_15\">\r\n      <g>\r\n       <use style=\"stroke:#000000;stroke-width:0.8;\" x=\"46.965625\" xlink:href=\"#m04cd0278ab\" y=\"72.275463\"/>\r\n      </g>\r\n     </g>\r\n     <g id=\"text_16\">\r\n      <!-- 156 -->\r\n      <g transform=\"translate(20.878125 76.074682)scale(0.1 -0.1)\">\r\n       <use xlink:href=\"#DejaVuSans-49\"/>\r\n       <use x=\"63.623047\" xlink:href=\"#DejaVuSans-53\"/>\r\n       <use x=\"127.246094\" xlink:href=\"#DejaVuSans-54\"/>\r\n      </g>\r\n     </g>\r\n    </g>\r\n    <g id=\"ytick_8\">\r\n     <g id=\"line2d_16\">\r\n      <g>\r\n       <use style=\"stroke:#000000;stroke-width:0.8;\" x=\"46.965625\" xlink:href=\"#m04cd0278ab\" y=\"46.328389\"/>\r\n      </g>\r\n     </g>\r\n     <g id=\"text_17\">\r\n      <!-- 158 -->\r\n      <g transform=\"translate(20.878125 50.127607)scale(0.1 -0.1)\">\r\n       <use xlink:href=\"#DejaVuSans-49\"/>\r\n       <use x=\"63.623047\" xlink:href=\"#DejaVuSans-53\"/>\r\n       <use x=\"127.246094\" xlink:href=\"#DejaVuSans-56\"/>\r\n      </g>\r\n     </g>\r\n    </g>\r\n    <g id=\"ytick_9\">\r\n     <g id=\"line2d_17\">\r\n      <g>\r\n       <use style=\"stroke:#000000;stroke-width:0.8;\" x=\"46.965625\" xlink:href=\"#m04cd0278ab\" y=\"20.381314\"/>\r\n      </g>\r\n     </g>\r\n     <g id=\"text_18\">\r\n      <!-- 160 -->\r\n      <g transform=\"translate(20.878125 24.180533)scale(0.1 -0.1)\">\r\n       <use xlink:href=\"#DejaVuSans-49\"/>\r\n       <use x=\"63.623047\" xlink:href=\"#DejaVuSans-54\"/>\r\n       <use x=\"127.246094\" xlink:href=\"#DejaVuSans-48\"/>\r\n      </g>\r\n     </g>\r\n    </g>\r\n    <g id=\"text_19\">\r\n     <!-- elevation -->\r\n     <defs>\r\n      <path d=\"M 56.203125 29.59375 \r\nL 56.203125 25.203125 \r\nL 14.890625 25.203125 \r\nQ 15.484375 15.921875 20.484375 11.0625 \r\nQ 25.484375 6.203125 34.421875 6.203125 \r\nQ 39.59375 6.203125 44.453125 7.46875 \r\nQ 49.3125 8.734375 54.109375 11.28125 \r\nL 54.109375 2.78125 \r\nQ 49.265625 0.734375 44.1875 -0.34375 \r\nQ 39.109375 -1.421875 33.890625 -1.421875 \r\nQ 20.796875 -1.421875 13.15625 6.1875 \r\nQ 5.515625 13.8125 5.515625 26.8125 \r\nQ 5.515625 40.234375 12.765625 48.109375 \r\nQ 20.015625 56 32.328125 56 \r\nQ 43.359375 56 49.78125 48.890625 \r\nQ 56.203125 41.796875 56.203125 29.59375 \r\nz\r\nM 47.21875 32.234375 \r\nQ 47.125 39.59375 43.09375 43.984375 \r\nQ 39.0625 48.390625 32.421875 48.390625 \r\nQ 24.90625 48.390625 20.390625 44.140625 \r\nQ 15.875 39.890625 15.1875 32.171875 \r\nz\r\n\" id=\"DejaVuSans-101\"/>\r\n      <path d=\"M 9.421875 75.984375 \r\nL 18.40625 75.984375 \r\nL 18.40625 0 \r\nL 9.421875 0 \r\nz\r\n\" id=\"DejaVuSans-108\"/>\r\n      <path d=\"M 2.984375 54.6875 \r\nL 12.5 54.6875 \r\nL 29.59375 8.796875 \r\nL 46.6875 54.6875 \r\nL 56.203125 54.6875 \r\nL 35.6875 0 \r\nL 23.484375 0 \r\nz\r\n\" id=\"DejaVuSans-118\"/>\r\n      <path d=\"M 18.3125 70.21875 \r\nL 18.3125 54.6875 \r\nL 36.8125 54.6875 \r\nL 36.8125 47.703125 \r\nL 18.3125 47.703125 \r\nL 18.3125 18.015625 \r\nQ 18.3125 11.328125 20.140625 9.421875 \r\nQ 21.96875 7.515625 27.59375 7.515625 \r\nL 36.8125 7.515625 \r\nL 36.8125 0 \r\nL 27.59375 0 \r\nQ 17.1875 0 13.234375 3.875 \r\nQ 9.28125 7.765625 9.28125 18.015625 \r\nL 9.28125 47.703125 \r\nL 2.6875 47.703125 \r\nL 2.6875 54.6875 \r\nL 9.28125 54.6875 \r\nL 9.28125 70.21875 \r\nz\r\n\" id=\"DejaVuSans-116\"/>\r\n      <path d=\"M 9.421875 54.6875 \r\nL 18.40625 54.6875 \r\nL 18.40625 0 \r\nL 9.421875 0 \r\nz\r\nM 9.421875 75.984375 \r\nL 18.40625 75.984375 \r\nL 18.40625 64.59375 \r\nL 9.421875 64.59375 \r\nz\r\n\" id=\"DejaVuSans-105\"/>\r\n      <path d=\"M 30.609375 48.390625 \r\nQ 23.390625 48.390625 19.1875 42.75 \r\nQ 14.984375 37.109375 14.984375 27.296875 \r\nQ 14.984375 17.484375 19.15625 11.84375 \r\nQ 23.34375 6.203125 30.609375 6.203125 \r\nQ 37.796875 6.203125 41.984375 11.859375 \r\nQ 46.1875 17.53125 46.1875 27.296875 \r\nQ 46.1875 37.015625 41.984375 42.703125 \r\nQ 37.796875 48.390625 30.609375 48.390625 \r\nz\r\nM 30.609375 56 \r\nQ 42.328125 56 49.015625 48.375 \r\nQ 55.71875 40.765625 55.71875 27.296875 \r\nQ 55.71875 13.875 49.015625 6.21875 \r\nQ 42.328125 -1.421875 30.609375 -1.421875 \r\nQ 18.84375 -1.421875 12.171875 6.21875 \r\nQ 5.515625 13.875 5.515625 27.296875 \r\nQ 5.515625 40.765625 12.171875 48.375 \r\nQ 18.84375 56 30.609375 56 \r\nz\r\n\" id=\"DejaVuSans-111\"/>\r\n      <path d=\"M 54.890625 33.015625 \r\nL 54.890625 0 \r\nL 45.90625 0 \r\nL 45.90625 32.71875 \r\nQ 45.90625 40.484375 42.875 44.328125 \r\nQ 39.84375 48.1875 33.796875 48.1875 \r\nQ 26.515625 48.1875 22.3125 43.546875 \r\nQ 18.109375 38.921875 18.109375 30.90625 \r\nL 18.109375 0 \r\nL 9.078125 0 \r\nL 9.078125 54.6875 \r\nL 18.109375 54.6875 \r\nL 18.109375 46.1875 \r\nQ 21.34375 51.125 25.703125 53.5625 \r\nQ 30.078125 56 35.796875 56 \r\nQ 45.21875 56 50.046875 50.171875 \r\nQ 54.890625 44.34375 54.890625 33.015625 \r\nz\r\n\" id=\"DejaVuSans-110\"/>\r\n     </defs>\r\n     <g transform=\"translate(14.798438 142.562969)rotate(-90)scale(0.1 -0.1)\">\r\n      <use xlink:href=\"#DejaVuSans-101\"/>\r\n      <use x=\"61.523438\" xlink:href=\"#DejaVuSans-108\"/>\r\n      <use x=\"89.306641\" xlink:href=\"#DejaVuSans-101\"/>\r\n      <use x=\"150.830078\" xlink:href=\"#DejaVuSans-118\"/>\r\n      <use x=\"210.009766\" xlink:href=\"#DejaVuSans-97\"/>\r\n      <use x=\"271.289062\" xlink:href=\"#DejaVuSans-116\"/>\r\n      <use x=\"310.498047\" xlink:href=\"#DejaVuSans-105\"/>\r\n      <use x=\"338.28125\" xlink:href=\"#DejaVuSans-111\"/>\r\n      <use x=\"399.462891\" xlink:href=\"#DejaVuSans-110\"/>\r\n     </g>\r\n    </g>\r\n   </g>\r\n   <g id=\"line2d_18\">\r\n    <path clip-path=\"url(#p3519e4d2e2)\" d=\"M 62.183807 119.42 \r\nL 366.547443 119.42 \r\nL 366.547443 119.42 \r\n\" style=\"fill:none;stroke:#1f77b4;stroke-linecap:square;stroke-opacity:0.5;stroke-width:1.5;\"/>\r\n   </g>\r\n   <g id=\"line2d_19\"/>\r\n   <g id=\"line2d_20\"/>\r\n   <g id=\"patch_3\">\r\n    <path d=\"M 46.965625 228.14 \r\nL 46.965625 10.7 \r\n\" style=\"fill:none;stroke:#000000;stroke-linecap:square;stroke-linejoin:miter;stroke-width:0.8;\"/>\r\n   </g>\r\n   <g id=\"patch_4\">\r\n    <path d=\"M 381.765625 228.14 \r\nL 381.765625 10.7 \r\n\" style=\"fill:none;stroke:#000000;stroke-linecap:square;stroke-linejoin:miter;stroke-width:0.8;\"/>\r\n   </g>\r\n   <g id=\"patch_5\">\r\n    <path d=\"M 46.965625 228.14 \r\nL 381.765625 228.14 \r\n\" style=\"fill:none;stroke:#000000;stroke-linecap:square;stroke-linejoin:miter;stroke-width:0.8;\"/>\r\n   </g>\r\n   <g id=\"patch_6\">\r\n    <path d=\"M 46.965625 10.7 \r\nL 381.765625 10.7 \r\n\" style=\"fill:none;stroke:#000000;stroke-linecap:square;stroke-linejoin:miter;stroke-width:0.8;\"/>\r\n   </g>\r\n   <g id=\"legend_1\">\r\n    <g id=\"patch_7\">\r\n     <path d=\"M 228.060938 48.334375 \r\nL 374.765625 48.334375 \r\nQ 376.765625 48.334375 376.765625 46.334375 \r\nL 376.765625 17.7 \r\nQ 376.765625 15.7 374.765625 15.7 \r\nL 228.060938 15.7 \r\nQ 226.060938 15.7 226.060938 17.7 \r\nL 226.060938 46.334375 \r\nQ 226.060938 48.334375 228.060938 48.334375 \r\nz\r\n\" style=\"fill:#ffffff;opacity:0.8;stroke:#cccccc;stroke-linejoin:miter;\"/>\r\n    </g>\r\n    <g id=\"line2d_21\">\r\n     <path d=\"M 230.060938 23.798437 \r\nL 250.060938 23.798437 \r\n\" style=\"fill:none;\"/>\r\n    </g>\r\n    <g id=\"line2d_22\"/>\r\n    <g id=\"text_20\">\r\n     <!-- lumprem_model_name -->\r\n     <defs>\r\n      <path d=\"M 8.5 21.578125 \r\nL 8.5 54.6875 \r\nL 17.484375 54.6875 \r\nL 17.484375 21.921875 \r\nQ 17.484375 14.15625 20.5 10.265625 \r\nQ 23.53125 6.390625 29.59375 6.390625 \r\nQ 36.859375 6.390625 41.078125 11.03125 \r\nQ 45.3125 15.671875 45.3125 23.6875 \r\nL 45.3125 54.6875 \r\nL 54.296875 54.6875 \r\nL 54.296875 0 \r\nL 45.3125 0 \r\nL 45.3125 8.40625 \r\nQ 42.046875 3.421875 37.71875 1 \r\nQ 33.40625 -1.421875 27.6875 -1.421875 \r\nQ 18.265625 -1.421875 13.375 4.4375 \r\nQ 8.5 10.296875 8.5 21.578125 \r\nz\r\nM 31.109375 56 \r\nz\r\n\" id=\"DejaVuSans-117\"/>\r\n      <path d=\"M 52 44.1875 \r\nQ 55.375 50.25 60.0625 53.125 \r\nQ 64.75 56 71.09375 56 \r\nQ 79.640625 56 84.28125 50.015625 \r\nQ 88.921875 44.046875 88.921875 33.015625 \r\nL 88.921875 0 \r\nL 79.890625 0 \r\nL 79.890625 32.71875 \r\nQ 79.890625 40.578125 77.09375 44.375 \r\nQ 74.3125 48.1875 68.609375 48.1875 \r\nQ 61.625 48.1875 57.5625 43.546875 \r\nQ 53.515625 38.921875 53.515625 30.90625 \r\nL 53.515625 0 \r\nL 44.484375 0 \r\nL 44.484375 32.71875 \r\nQ 44.484375 40.625 41.703125 44.40625 \r\nQ 38.921875 48.1875 33.109375 48.1875 \r\nQ 26.21875 48.1875 22.15625 43.53125 \r\nQ 18.109375 38.875 18.109375 30.90625 \r\nL 18.109375 0 \r\nL 9.078125 0 \r\nL 9.078125 54.6875 \r\nL 18.109375 54.6875 \r\nL 18.109375 46.1875 \r\nQ 21.1875 51.21875 25.484375 53.609375 \r\nQ 29.78125 56 35.6875 56 \r\nQ 41.65625 56 45.828125 52.96875 \r\nQ 50 49.953125 52 44.1875 \r\nz\r\n\" id=\"DejaVuSans-109\"/>\r\n      <path d=\"M 18.109375 8.203125 \r\nL 18.109375 -20.796875 \r\nL 9.078125 -20.796875 \r\nL 9.078125 54.6875 \r\nL 18.109375 54.6875 \r\nL 18.109375 46.390625 \r\nQ 20.953125 51.265625 25.265625 53.625 \r\nQ 29.59375 56 35.59375 56 \r\nQ 45.5625 56 51.78125 48.09375 \r\nQ 58.015625 40.1875 58.015625 27.296875 \r\nQ 58.015625 14.40625 51.78125 6.484375 \r\nQ 45.5625 -1.421875 35.59375 -1.421875 \r\nQ 29.59375 -1.421875 25.265625 0.953125 \r\nQ 20.953125 3.328125 18.109375 8.203125 \r\nz\r\nM 48.6875 27.296875 \r\nQ 48.6875 37.203125 44.609375 42.84375 \r\nQ 40.53125 48.484375 33.40625 48.484375 \r\nQ 26.265625 48.484375 22.1875 42.84375 \r\nQ 18.109375 37.203125 18.109375 27.296875 \r\nQ 18.109375 17.390625 22.1875 11.75 \r\nQ 26.265625 6.109375 33.40625 6.109375 \r\nQ 40.53125 6.109375 44.609375 11.75 \r\nQ 48.6875 17.390625 48.6875 27.296875 \r\nz\r\n\" id=\"DejaVuSans-112\"/>\r\n      <path d=\"M 41.109375 46.296875 \r\nQ 39.59375 47.171875 37.8125 47.578125 \r\nQ 36.03125 48 33.890625 48 \r\nQ 26.265625 48 22.1875 43.046875 \r\nQ 18.109375 38.09375 18.109375 28.8125 \r\nL 18.109375 0 \r\nL 9.078125 0 \r\nL 9.078125 54.6875 \r\nL 18.109375 54.6875 \r\nL 18.109375 46.1875 \r\nQ 20.953125 51.171875 25.484375 53.578125 \r\nQ 30.03125 56 36.53125 56 \r\nQ 37.453125 56 38.578125 55.875 \r\nQ 39.703125 55.765625 41.0625 55.515625 \r\nz\r\n\" id=\"DejaVuSans-114\"/>\r\n      <path d=\"M 50.984375 -16.609375 \r\nL 50.984375 -23.578125 \r\nL -0.984375 -23.578125 \r\nL -0.984375 -16.609375 \r\nz\r\n\" id=\"DejaVuSans-95\"/>\r\n     </defs>\r\n     <g transform=\"translate(258.060938 27.298437)scale(0.1 -0.1)\">\r\n      <use xlink:href=\"#DejaVuSans-108\"/>\r\n      <use x=\"27.783203\" xlink:href=\"#DejaVuSans-117\"/>\r\n      <use x=\"91.162109\" xlink:href=\"#DejaVuSans-109\"/>\r\n      <use x=\"188.574219\" xlink:href=\"#DejaVuSans-112\"/>\r\n      <use x=\"252.050781\" xlink:href=\"#DejaVuSans-114\"/>\r\n      <use x=\"293.132812\" xlink:href=\"#DejaVuSans-101\"/>\r\n      <use x=\"354.65625\" xlink:href=\"#DejaVuSans-109\"/>\r\n      <use x=\"452.068359\" xlink:href=\"#DejaVuSans-95\"/>\r\n      <use x=\"502.068359\" xlink:href=\"#DejaVuSans-109\"/>\r\n      <use x=\"599.480469\" xlink:href=\"#DejaVuSans-111\"/>\r\n      <use x=\"660.662109\" xlink:href=\"#DejaVuSans-100\"/>\r\n      <use x=\"724.138672\" xlink:href=\"#DejaVuSans-101\"/>\r\n      <use x=\"785.662109\" xlink:href=\"#DejaVuSans-108\"/>\r\n      <use x=\"813.445312\" xlink:href=\"#DejaVuSans-95\"/>\r\n      <use x=\"863.445312\" xlink:href=\"#DejaVuSans-110\"/>\r\n      <use x=\"926.824219\" xlink:href=\"#DejaVuSans-97\"/>\r\n      <use x=\"988.103516\" xlink:href=\"#DejaVuSans-109\"/>\r\n      <use x=\"1085.515625\" xlink:href=\"#DejaVuSans-101\"/>\r\n     </g>\r\n    </g>\r\n    <g id=\"line2d_23\">\r\n     <path d=\"M 230.060938 38.754687 \r\nL 250.060938 38.754687 \r\n\" style=\"fill:none;stroke:#1f77b4;stroke-linecap:square;stroke-width:1.5;\"/>\r\n    </g>\r\n    <g id=\"line2d_24\"/>\r\n    <g id=\"text_21\">\r\n     <!-- ghb -->\r\n     <defs>\r\n      <path d=\"M 45.40625 27.984375 \r\nQ 45.40625 37.75 41.375 43.109375 \r\nQ 37.359375 48.484375 30.078125 48.484375 \r\nQ 22.859375 48.484375 18.828125 43.109375 \r\nQ 14.796875 37.75 14.796875 27.984375 \r\nQ 14.796875 18.265625 18.828125 12.890625 \r\nQ 22.859375 7.515625 30.078125 7.515625 \r\nQ 37.359375 7.515625 41.375 12.890625 \r\nQ 45.40625 18.265625 45.40625 27.984375 \r\nz\r\nM 54.390625 6.78125 \r\nQ 54.390625 -7.171875 48.1875 -13.984375 \r\nQ 42 -20.796875 29.203125 -20.796875 \r\nQ 24.46875 -20.796875 20.265625 -20.09375 \r\nQ 16.0625 -19.390625 12.109375 -17.921875 \r\nL 12.109375 -9.1875 \r\nQ 16.0625 -11.328125 19.921875 -12.34375 \r\nQ 23.78125 -13.375 27.78125 -13.375 \r\nQ 36.625 -13.375 41.015625 -8.765625 \r\nQ 45.40625 -4.15625 45.40625 5.171875 \r\nL 45.40625 9.625 \r\nQ 42.625 4.78125 38.28125 2.390625 \r\nQ 33.9375 0 27.875 0 \r\nQ 17.828125 0 11.671875 7.65625 \r\nQ 5.515625 15.328125 5.515625 27.984375 \r\nQ 5.515625 40.671875 11.671875 48.328125 \r\nQ 17.828125 56 27.875 56 \r\nQ 33.9375 56 38.28125 53.609375 \r\nQ 42.625 51.21875 45.40625 46.390625 \r\nL 45.40625 54.6875 \r\nL 54.390625 54.6875 \r\nz\r\n\" id=\"DejaVuSans-103\"/>\r\n      <path d=\"M 54.890625 33.015625 \r\nL 54.890625 0 \r\nL 45.90625 0 \r\nL 45.90625 32.71875 \r\nQ 45.90625 40.484375 42.875 44.328125 \r\nQ 39.84375 48.1875 33.796875 48.1875 \r\nQ 26.515625 48.1875 22.3125 43.546875 \r\nQ 18.109375 38.921875 18.109375 30.90625 \r\nL 18.109375 0 \r\nL 9.078125 0 \r\nL 9.078125 75.984375 \r\nL 18.109375 75.984375 \r\nL 18.109375 46.1875 \r\nQ 21.34375 51.125 25.703125 53.5625 \r\nQ 30.078125 56 35.796875 56 \r\nQ 45.21875 56 50.046875 50.171875 \r\nQ 54.890625 44.34375 54.890625 33.015625 \r\nz\r\n\" id=\"DejaVuSans-104\"/>\r\n      <path d=\"M 48.6875 27.296875 \r\nQ 48.6875 37.203125 44.609375 42.84375 \r\nQ 40.53125 48.484375 33.40625 48.484375 \r\nQ 26.265625 48.484375 22.1875 42.84375 \r\nQ 18.109375 37.203125 18.109375 27.296875 \r\nQ 18.109375 17.390625 22.1875 11.75 \r\nQ 26.265625 6.109375 33.40625 6.109375 \r\nQ 40.53125 6.109375 44.609375 11.75 \r\nQ 48.6875 17.390625 48.6875 27.296875 \r\nz\r\nM 18.109375 46.390625 \r\nQ 20.953125 51.265625 25.265625 53.625 \r\nQ 29.59375 56 35.59375 56 \r\nQ 45.5625 56 51.78125 48.09375 \r\nQ 58.015625 40.1875 58.015625 27.296875 \r\nQ 58.015625 14.40625 51.78125 6.484375 \r\nQ 45.5625 -1.421875 35.59375 -1.421875 \r\nQ 29.59375 -1.421875 25.265625 0.953125 \r\nQ 20.953125 3.328125 18.109375 8.203125 \r\nL 18.109375 0 \r\nL 9.078125 0 \r\nL 9.078125 75.984375 \r\nL 18.109375 75.984375 \r\nz\r\n\" id=\"DejaVuSans-98\"/>\r\n     </defs>\r\n     <g transform=\"translate(258.060938 42.254687)scale(0.1 -0.1)\">\r\n      <use xlink:href=\"#DejaVuSans-103\"/>\r\n      <use x=\"63.476562\" xlink:href=\"#DejaVuSans-104\"/>\r\n      <use x=\"126.855469\" xlink:href=\"#DejaVuSans-98\"/>\r\n     </g>\r\n    </g>\r\n   </g>\r\n  </g>\r\n </g>\r\n <defs>\r\n  <clipPath id=\"p3519e4d2e2\">\r\n   <rect height=\"217.44\" width=\"334.8\" x=\"46.965625\" y=\"10.7\"/>\r\n  </clipPath>\r\n </defs>\r\n</svg>\r\n",
      "image/png": "[encoded data removed]"
     },
     "metadata": {
      "needs_background": "light"
     }
    }
   ],
   "source": [
    "ghb = lr.lumprem.Model('ghb', workspace=workspace,factor1=1.0,\n",
    "                                                    factor2=2.0,\n",
    "                                                    power=0.1,\n",
    "                                                    offset=150.0,\n",
    "                                                    maxvol=1,\n",
    "                                                    surface=200,\n",
    "                                                    ks=0.1,\n",
    "                                                    irrigvolfrac=0.0,\n",
    "                                                    vegfile=(0.8,1.0), irrigfile = (0, 0.0))\n",
    "ghb.write_model(numdays=3650)\n",
    "ghb.run_model()\n",
    "df=ghb.get_results()\n",
    "# plot the model results\n",
    "import seaborn as sb\n",
    "sb.lineplot(data=df, x='days',y='elevation', hue='lumprem_model_name', alpha=0.5)\n",
    "#sb.lineplot(data=df, x='days',y='volume', hue='lumprem_model_name', alpha=0.5)"
   ]
  },
  {
   "source": [
    "# Using LR2SERIES\n",
    "## Generates MODFLOW6 timeseries file from several LUMPREM model outputs"
   ],
   "cell_type": "markdown",
   "metadata": {}
  },
  {
   "cell_type": "code",
   "execution_count": 10,
   "metadata": {
    "tags": []
   },
   "outputs": [
    {
     "output_type": "stream",
     "name": "stdout",
     "text": "LUMPREM model input file written to: \nc:\\Users\\rui2h\\Documents\\GitHub\\lumpyrem\\examples\\workspace\\lr_abc.in\n\n Enter name of LUMPREM2 control file:  Enter name for LUMPREM2 output file:  \n - file lr_abc.in read ok.\n - file lr_abc.out written ok.\n\nLUMPREM model input file written to: \nc:\\Users\\rui2h\\Documents\\GitHub\\lumpyrem\\examples\\workspace\\lr_def.in\n\n Enter name of LUMPREM2 control file:  Enter name for LUMPREM2 output file:  \n - file lr_def.in read ok.\n - file lr_def.out written ok.\n\nLUMPREM model input file written to: \nc:\\Users\\rui2h\\Documents\\GitHub\\lumpyrem\\examples\\workspace\\lr_ghi.in\n\n Enter name of LUMPREM2 control file:  Enter name for LUMPREM2 output file:  \n - file lr_ghi.in read ok.\n - file lr_ghi.out written ok.\n\nMF6 timeseries file c:\\Users\\rui2h\\Documents\\GitHub\\lumpyrem\\examples\\workspace\\rch.ts.in written to:\nc:\\Users\\rui2h\\Documents\\GitHub\\lumpyrem\\examples\\workspace\\rch.ts.in\n Enter name of LR2SERIES control file:  \n - reading file rch.ts.in...\n \n - reading LUMPREM2 output file lr_abc.out...\n - file lr_abc.out read ok.\n - reading LUMPREM2 output file lr_def.out...\n - file lr_def.out read ok.\n - reading LUMPREM2 output file lr_ghi.out...\n - file lr_ghi.out read ok.\n - writing file rch.ts...\n - file rch.ts written ok.\n \n - file rch.ts.in read ok.\n\n"
    }
   ],
   "source": [
    "# make a mf6 tseries file\n",
    "\n",
    "# run some LUMPREM models. These have to have the same time configuration.\n",
    "# make a list of the lumprem models\n",
    "model_names = ['abc','def','ghi']\n",
    "lr_models =[]\n",
    "for name in model_names:\n",
    "    model = lr.lumprem.Model(model_name=name, workspace=workspace, vegfile=(0.5,1.0))\n",
    "\n",
    "    lr_models.append(model)\n",
    "\n",
    "    model.write_model(numdays=3650, noutdays='monthly', start_date='01/01/2010', end_date='01/01/2020') #note that numdays is ignored in favour of start/enddate and\n",
    "    model.run_model()\n",
    "\n",
    "\n",
    "# make a list of lumprem output columns to read\n",
    "lumprem_output_cols = ['net_recharge','gw_withdrawal']\n",
    "\n",
    "# make a list of timseries names for the column to be used in the ts file. Length and sequence of ts_names and lumprem columns must match!\n",
    "ts_names = ['rech','pumping']\n",
    "\n",
    "# make a list of methods for the timeseries\n",
    "methods = ['linearend','linear']\n",
    "\n",
    "#initialize the timeseries object\n",
    "rechts = lr.lr2series.TimeSeries('rch.ts',workspace=workspace, lr_models=lr_models, lumprem_output_cols=lumprem_output_cols, ts_names=ts_names, methods=methods)\n",
    "\n",
    "# write lr2series input and ts file\n",
    "rechts.write_ts()"
   ]
  },
  {
   "cell_type": "code",
   "execution_count": 11,
   "metadata": {
    "tags": []
   },
   "outputs": [
    {
     "output_type": "stream",
     "name": "stdout",
     "text": "\nFile: rch.ts\nBEGIN ATTRIBUTES\n   NAMES rech_abc pumping_abc rech_def pumping_def rech_ghi pumping_ghi\n   METHODS LINEAREND LINEAR LINEAREND LINEAR LINEAREND LINEAR\nEND ATTRIBUTES\n \n \nBEGIN TIMESERIES\n   0.000000       0.000000       0.000000       0.000000       0.000000       0.000000       0.000000    \n   31.00000      1.1102045E-03   0.000000      1.1102045E-03   0.000000      1.1102045E-03   0.000000    \n   59.00000      1.2279307E-03   0.000000      1.2279307E-03   0.000000      1.2279307E-03   0.000000    \n   90.00000      5.2915871E-04   0.000000      5.2915871E-04   0.000000      5.2915871E-04   0.000000    \n   120.0000      1.0560290E-03   0.000000      1.0560290E-03   0.000000      1.0560290E-03   0.000000    \n   151.0000      1.9073794E-03  1.1360987E-04  1.9073794E-03  1.1360987E-04  1.9073794E-03  1.1360987E-04\n   181.0000     -3.8885933E-04  1.6653903E-03 -3.8885933E-04  1.6653903E-03 -3.8885933E-04  1.6653903E-03\n   212.0000     -3.5476097E-04  1.6239606E-03 -3.5476097E-04  1.6239606E-03 -3.5476097E-04  1.6239606E-03\n   243.0000     -2.3306619E-04  1.5022658E-03 -2.3306619E-04  1.5022658E-03 -2.3306619E-04  1.5022658E-03\n   273.0000      5.4797000E-04  6.7479767E-04  5.4797000E-04  6.7479767E-04  5.4797000E-04  6.7479767E-04\n   304.0000      7.0921129E-04   0.000000      7.0921129E-04   0.000000      7.0921129E-04   0.000000    \n   334.0000      5.1518067E-04   0.000000      5.1518067E-04   0.000000      5.1518067E-04   0.000000    \n   365.0000      1.6852906E-03   0.000000      1.6852906E-03   0.000000      1.6852906E-03   0.000000    \n   396.0000      4.3002839E-03   0.000000      4.3002839E-03   0.000000      4.3002839E-03   0.000000    \n   424.0000      2.2036939E-03   0.000000      2.2036939E-03   0.000000      2.2036939E-03   0.000000    \n   455.0000      2.9968158E-03   0.000000      2.9968158E-03   0.000000      2.9968158E-03   0.000000    \n   485.0000      1.4165157E-03   0.000000      1.4165157E-03   0.000000      1.4165157E-03   0.000000    \n   516.0000     -2.9648216E-04  9.0513871E-04 -2.9648216E-04  9.0513871E-04 -2.9648216E-04  9.0513871E-04\n   546.0000      2.8647130E-04  8.8031267E-04  2.8647130E-04  8.8031267E-04  2.8647130E-04  8.8031267E-04\n   577.0000      3.7993581E-04  8.8926387E-04  3.7993581E-04  8.8926387E-04  3.7993581E-04  8.8926387E-04\n   608.0000      3.7422613E-04  8.9497355E-04  3.7422613E-04  8.9497355E-04  3.7422613E-04  8.9497355E-04\n   638.0000      9.9406967E-04  4.4627133E-04  9.9406967E-04  4.4627133E-04  9.9406967E-04  4.4627133E-04\n   669.0000      3.2132361E-03   0.000000      3.2132361E-03   0.000000      3.2132361E-03   0.000000    \n   699.0000      2.7103843E-03   0.000000      2.7103843E-03   0.000000      2.7103843E-03   0.000000    \n   730.0000      4.8736871E-03   0.000000      4.8736871E-03   0.000000      4.8736871E-03   0.000000    \n   761.0000      3.4340387E-03   0.000000      3.4340387E-03   0.000000      3.4340387E-03   0.000000    \n   790.0000      1.2120069E-03   0.000000      1.2120069E-03   0.000000      1.2120069E-03   0.000000    \n   821.0000      1.1868190E-03   0.000000      1.1868190E-03   0.000000      1.1868190E-03   0.000000    \n   851.0000      1.3869920E-03   0.000000      1.3869920E-03   0.000000      1.3869920E-03   0.000000    \n   882.0000     -3.8054935E-04  1.0548945E-03 -3.8054935E-04  1.0548945E-03 -3.8054935E-04  1.0548945E-03\n   912.0000     -2.3407427E-04  1.4257490E-03 -2.3407427E-04  1.4257490E-03 -2.3407427E-04  1.4257490E-03\n   943.0000     -3.4406484E-04  1.6132645E-03 -3.4406484E-04  1.6132645E-03 -3.4406484E-04  1.6132645E-03\n   974.0000     -7.4823129E-05  1.3440226E-03 -7.4823129E-05  1.3440226E-03 -7.4823129E-05  1.3440226E-03\n   1004.000      1.4845427E-03  5.6898233E-04  1.4845427E-03  5.6898233E-04  1.4845427E-03  5.6898233E-04\n   1035.000      3.0841068E-03   0.000000      3.0841068E-03   0.000000      3.0841068E-03   0.000000    \n   1065.000      1.9275560E-03   0.000000      1.9275560E-03   0.000000      1.9275560E-03   0.000000    \n   1096.000      2.9077794E-03   0.000000      2.9077794E-03   0.000000      2.9077794E-03   0.000000    \n   1127.000      2.1615926E-03   0.000000      2.1615926E-03   0.000000      2.1615926E-03   0.000000    \n   1155.000      1.1396289E-03   0.000000      1.1396289E-03   0.000000      1.1396289E-03   0.000000    \n   1186.000      1.6574287E-03   0.000000      1.6574287E-03   0.000000      1.6574287E-03   0.000000    \n   1216.000      1.7188743E-03   0.000000      1.7188743E-03   0.000000      1.7188743E-03   0.000000    \n   1247.000      2.8397745E-04  9.0330194E-04  2.8397745E-04  9.0330194E-04  2.8397745E-04  9.0330194E-04\n   1277.000     -3.8970567E-04  1.5888390E-03 -3.8970567E-04  1.5888390E-03 -3.8970567E-04  1.5888390E-03\n   1308.000     -1.2858671E-04  1.3977861E-03 -1.2858671E-04  1.3977861E-03 -1.2858671E-04  1.3977861E-03\n   1339.000     -7.5196355E-05  1.3443958E-03 -7.5196355E-05  1.3443958E-03 -7.5196355E-05  1.3443958E-03\n   1369.000      6.4649733E-04  5.3985133E-04  6.4649733E-04  5.3985133E-04  6.4649733E-04  5.3985133E-04\n   1400.000      9.6036194E-04   0.000000      9.6036194E-04   0.000000      9.6036194E-04   0.000000    \n   1430.000      2.0886700E-03   0.000000      2.0886700E-03   0.000000      2.0886700E-03   0.000000    \n   1461.000      3.1301461E-03   0.000000      3.1301461E-03   0.000000      3.1301461E-03   0.000000    \n   1492.000      1.1949229E-03   0.000000      1.1949229E-03   0.000000      1.1949229E-03   0.000000    \n   1520.000      7.5124429E-04   0.000000      7.5124429E-04   0.000000      7.5124429E-04   0.000000    \n   1551.000      1.8815184E-03   0.000000      1.8815184E-03   0.000000      1.8815184E-03   0.000000    \n   1581.000      1.1853443E-03   0.000000      1.1853443E-03   0.000000      1.1853443E-03   0.000000    \n   1612.000     -6.8525581E-05  7.9351839E-04 -6.8525581E-05  7.9351839E-04 -6.8525581E-05  7.9351839E-04\n   1642.000     -3.2539380E-04  1.5039337E-03 -3.2539380E-04  1.5039337E-03 -3.2539380E-04  1.5039337E-03\n   1673.000      1.9847781E-05  1.2493519E-03  1.9847781E-05  1.2493519E-03  1.9847781E-05  1.2493519E-03\n   1704.000      1.5294035E-04  1.1173558E-03  1.5294035E-04  1.1173558E-03  1.5294035E-04  1.1173558E-03\n   1734.000      6.1198100E-04  5.7820800E-04  6.1198100E-04  5.7820800E-04  6.1198100E-04  5.7820800E-04\n   1765.000      6.1860645E-04   0.000000      6.1860645E-04   0.000000      6.1860645E-04   0.000000    \n   1795.000      9.3752567E-04   0.000000      9.3752567E-04   0.000000      9.3752567E-04   0.000000    \n   1826.000      7.9409548E-04   0.000000      7.9409548E-04   0.000000      7.9409548E-04   0.000000    \n   1857.000      5.1200355E-04   0.000000      5.1200355E-04   0.000000      5.1200355E-04   0.000000    \n   1885.000      2.8217164E-04   0.000000      2.8217164E-04   0.000000      2.8217164E-04   0.000000    \n   1916.000      2.3743048E-04   0.000000      2.3743048E-04   0.000000      2.3743048E-04   0.000000    \n   1946.000      2.5148460E-04   0.000000      2.5148460E-04   0.000000      2.5148460E-04   0.000000    \n   1977.000     -1.5423413E-03  1.6912739E-03 -1.5423413E-03  1.6912739E-03 -1.5423413E-03  1.6912739E-03\n   2007.000     -1.2110460E-04  1.2468653E-03 -1.2110460E-04  1.2468653E-03 -1.2110460E-04  1.2468653E-03\n   2038.000      1.3343281E-04  1.1357668E-03  1.3343281E-04  1.1357668E-03  1.3343281E-04  1.1357668E-03\n   2069.000      1.4517335E-04  1.1357648E-03  1.4517335E-04  1.1357648E-03  1.4517335E-04  1.1357648E-03\n   2099.000      6.2530333E-04  5.6431833E-04  6.2530333E-04  5.6431833E-04  6.2530333E-04  5.6431833E-04\n   2130.000      9.2249097E-04   0.000000      9.2249097E-04   0.000000      9.2249097E-04   0.000000    \n   2160.000      1.9312163E-03   0.000000      1.9312163E-03   0.000000      1.9312163E-03   0.000000    \n   2191.000      2.5877942E-03   0.000000      2.5877942E-03   0.000000      2.5877942E-03   0.000000    \n   2222.000      1.6575352E-03   0.000000      1.6575352E-03   0.000000      1.6575352E-03   0.000000    \n   2251.000      2.4347066E-03   0.000000      2.4347066E-03   0.000000      2.4347066E-03   0.000000    \n   2282.000      1.8632877E-03   0.000000      1.8632877E-03   0.000000      1.8632877E-03   0.000000    \n   2312.000      1.0960253E-03   0.000000      1.0960253E-03   0.000000      1.0960253E-03   0.000000    \n   2343.000     -4.5032065E-05  8.6180710E-04 -4.5032065E-05  8.6180710E-04 -4.5032065E-05  8.6180710E-04\n   2373.000      4.5940467E-04  8.0063333E-04  4.5940467E-04  8.0063333E-04  4.5940467E-04  8.0063333E-04\n   2404.000      2.2869345E-04  1.0405061E-03  2.2869345E-04  1.0405061E-03  2.2869345E-04  1.0405061E-03\n   2435.000      3.7046871E-04  9.3694839E-04  3.7046871E-04  9.3694839E-04  3.7046871E-04  9.3694839E-04\n   2465.000      6.8102633E-04  5.2075167E-04  6.8102633E-04  5.2075167E-04  6.8102633E-04  5.2075167E-04\n   2496.000      9.1423645E-04   0.000000      9.1423645E-04   0.000000      9.1423645E-04   0.000000    \n   2526.000      4.7018400E-03   0.000000      4.7018400E-03   0.000000      4.7018400E-03   0.000000    \n   2557.000      4.0067161E-03   0.000000      4.0067161E-03   0.000000      4.0067161E-03   0.000000    \n   2588.000      1.0164529E-03   0.000000      1.0164529E-03   0.000000      1.0164529E-03   0.000000    \n   2616.000      7.8253214E-04   0.000000      7.8253214E-04   0.000000      7.8253214E-04   0.000000    \n   2647.000      6.8999677E-04   0.000000      6.8999677E-04   0.000000      6.8999677E-04   0.000000    \n   2677.000      4.8135367E-04   0.000000      4.8135367E-04   0.000000      4.8135367E-04   0.000000    \n   2708.000     -8.9335258E-04  1.1903345E-03 -8.9335258E-04  1.1903345E-03 -8.9335258E-04  1.1903345E-03\n   2738.000      7.8457967E-05  1.1054193E-03  7.8457967E-05  1.1054193E-03  7.8457967E-05  1.1054193E-03\n   2769.000      2.6982994E-04  9.9936968E-04  2.6982994E-04  9.9936968E-04  2.6982994E-04  9.9936968E-04\n   2800.000      6.1442387E-04  7.4347161E-04  6.1442387E-04  7.4347161E-04  6.1442387E-04  7.4347161E-04\n   2830.000      1.7351587E-03   0.000000      1.7351587E-03   0.000000      1.7351587E-03   0.000000    \n   2861.000      1.3095958E-03   0.000000      1.3095958E-03   0.000000      1.3095958E-03   0.000000    \n   2891.000      7.0941167E-04   0.000000      7.0941167E-04   0.000000      7.0941167E-04   0.000000    \n   2922.000      1.3976094E-03   0.000000      1.3976094E-03   0.000000      1.3976094E-03   0.000000    \n   2953.000      2.5342413E-03   0.000000      2.5342413E-03   0.000000      2.5342413E-03   0.000000    \n   2981.000      1.0665539E-03   0.000000      1.0665539E-03   0.000000      1.0665539E-03   0.000000    \n   3012.000      1.3942103E-03   0.000000      1.3942103E-03   0.000000      1.3942103E-03   0.000000    \n   3042.000      1.8893637E-03   0.000000      1.8893637E-03   0.000000      1.8893637E-03   0.000000    \n   3073.000      1.4712671E-03  4.7922516E-05  1.4712671E-03  4.7922516E-05  1.4712671E-03  4.7922516E-05\n   3103.000     -9.5887667E-05  1.3722657E-03 -9.5887667E-05  1.3722657E-03 -9.5887667E-05  1.3722657E-03\n   3134.000     -1.1461784E-04  1.3838174E-03 -1.1461784E-04  1.3838174E-03 -1.1461784E-04  1.3838174E-03\n   3165.000     -1.6719990E-04  1.4363994E-03 -1.6719990E-04  1.4363994E-03 -1.6719990E-04  1.4363994E-03\n   3195.000      5.5782800E-04  6.2976667E-04  5.5782800E-04  6.2976667E-04  5.5782800E-04  6.2976667E-04\n   3226.000      1.9116410E-03   0.000000      1.9116410E-03   0.000000      1.9116410E-03   0.000000    \n   3256.000      8.6195133E-04   0.000000      8.6195133E-04   0.000000      8.6195133E-04   0.000000    \n   3287.000      7.5181419E-04   0.000000      7.5181419E-04   0.000000      7.5181419E-04   0.000000    \n   3318.000      9.0258452E-04   0.000000      9.0258452E-04   0.000000      9.0258452E-04   0.000000    \n   3346.000      1.7533346E-03   0.000000      1.7533346E-03   0.000000      1.7533346E-03   0.000000    \n   3377.000      6.8546032E-04   0.000000      6.8546032E-04   0.000000      6.8546032E-04   0.000000    \n   3407.000      5.0009500E-04   0.000000      5.0009500E-04   0.000000      5.0009500E-04   0.000000    \n   3438.000     -1.3474355E-03  1.6456545E-03 -1.3474355E-03  1.6456545E-03 -1.3474355E-03  1.6456545E-03\n   3468.000      6.5572000E-06  1.1240400E-03  6.5572000E-06  1.1240400E-03  6.5572000E-06  1.1240400E-03\n   3499.000     -1.6043774E-04  1.4296374E-03 -1.6043774E-04  1.4296374E-03 -1.6043774E-04  1.4296374E-03\n   3530.000     -4.3989419E-05  1.3131890E-03 -4.3989419E-05  1.3131890E-03 -4.3989419E-05  1.3131890E-03\n   3560.000      8.9494933E-04  3.2708003E-04  8.9494933E-04  3.2708003E-04  8.9494933E-04  3.2708003E-04\n   3591.000      8.5139581E-04   0.000000      8.5139581E-04   0.000000      8.5139581E-04   0.000000    \n   3621.000      7.0490467E-04   0.000000      7.0490467E-04   0.000000      7.0490467E-04   0.000000    \nEND TIMESERIES\n\n"
    }
   ],
   "source": [
    "filename = os.path.join(workspace,'rch.ts')\n",
    "printfile(filename)"
   ]
  },
  {
   "source": [
    "# Using LUMPREP"
   ],
   "cell_type": "markdown",
   "metadata": {}
  },
  {
   "cell_type": "code",
   "execution_count": 12,
   "metadata": {},
   "outputs": [
    {
     "output_type": "execute_result",
     "data": {
      "text/plain": "['abc', 'def', 'ghi']"
     },
     "metadata": {},
     "execution_count": 12
    }
   ],
   "source": [
    "z = lr.lumprep.Simulation(lr_models,('silofile.txt', 'evap'),'01/01/2000','01/01/2010')\n",
    "z.model_names"
   ]
  },
  {
   "cell_type": "code",
   "execution_count": 13,
   "metadata": {},
   "outputs": [
    {
     "output_type": "execute_result",
     "data": {
      "text/plain": "('silofile.txt', 'evap')"
     },
     "metadata": {},
     "execution_count": 13
    }
   ],
   "source": [
    "z.__dict__['silofile']"
   ]
  },
  {
   "cell_type": "code",
   "execution_count": 14,
   "metadata": {
    "tags": []
   },
   "outputs": [
    {
     "output_type": "stream",
     "name": "stdout",
     "text": "Enter name of LUMPREP control file:  \n - reading file lumprep.in...\n \n START_DATE                  = 01/01/2000\n END_DATE                    = 01/01/2010\n NDAY_OUT                    = monthly\n STEPS_PER_DAY               = 1\n SILOFILE                    = silofile.txt\n EVAPCOLSTRING               = \"evap\"\n - reading file silofile.txt...\n \n Cannot open file silofile.txt to read SILO climatic data.\n\n"
    }
   ],
   "source": [
    "z.write_simulation()"
   ]
  },
  {
   "cell_type": "code",
   "execution_count": 15,
   "metadata": {
    "tags": []
   },
   "outputs": [
    {
     "output_type": "stream",
     "name": "stdout",
     "text": "Enter name of LUMPREM2 control file:  Enter name of LUMPREM2 control file:  Enter name of LUMPREM2 control file: \n Enter name of LUMPREM2 control file:  Enter name of LUMPREM2 control file:  Enter name of LUMPREM2 control file: \n Enter name of LUMPREM2 control file:  Enter name of LUMPREM2 control file:  Enter name of LUMPREM2 control file: \n"
    }
   ],
   "source": [
    "z.run_simulation()"
   ]
  },
  {
   "cell_type": "code",
   "execution_count": 16,
   "metadata": {},
   "outputs": [
    {
     "output_type": "error",
     "ename": "FileNotFoundError",
     "evalue": "[Errno 2] No such file or directory: 'lr_abc.out'",
     "traceback": [
      "\u001b[1;31m---------------------------------------------------------------------------\u001b[0m",
      "\u001b[1;31mFileNotFoundError\u001b[0m                         Traceback (most recent call last)",
      "\u001b[1;32m<ipython-input-16-568d724ba327>\u001b[0m in \u001b[0;36m<module>\u001b[1;34m\u001b[0m\n\u001b[1;32m----> 1\u001b[1;33m \u001b[0mz\u001b[0m\u001b[1;33m.\u001b[0m\u001b[0mget_results\u001b[0m\u001b[1;33m(\u001b[0m\u001b[1;33m)\u001b[0m\u001b[1;33m\u001b[0m\u001b[1;33m\u001b[0m\u001b[0m\n\u001b[0m",
      "\u001b[1;32mc:\\users\\rui2h\\documents\\github\\lumpyrem\\lumpyrem\\lumprep.py\u001b[0m in \u001b[0;36mget_results\u001b[1;34m(self)\u001b[0m\n\u001b[0;32m    116\u001b[0m                         \u001b[0mtextlist\u001b[0m \u001b[1;33m=\u001b[0m \u001b[1;33m[\u001b[0m\u001b[1;33m]\u001b[0m\u001b[1;33m\u001b[0m\u001b[1;33m\u001b[0m\u001b[0m\n\u001b[0;32m    117\u001b[0m \u001b[1;33m\u001b[0m\u001b[0m\n\u001b[1;32m--> 118\u001b[1;33m                         \u001b[1;32mwith\u001b[0m \u001b[0mopen\u001b[0m\u001b[1;33m(\u001b[0m\u001b[0mfilename\u001b[0m\u001b[1;33m)\u001b[0m \u001b[1;32mas\u001b[0m \u001b[0mf\u001b[0m\u001b[1;33m:\u001b[0m\u001b[1;33m\u001b[0m\u001b[1;33m\u001b[0m\u001b[0m\n\u001b[0m\u001b[0;32m    119\u001b[0m                                 \u001b[1;32mfor\u001b[0m \u001b[0mline\u001b[0m \u001b[1;32min\u001b[0m \u001b[0mf\u001b[0m\u001b[1;33m:\u001b[0m\u001b[1;33m\u001b[0m\u001b[1;33m\u001b[0m\u001b[0m\n\u001b[0;32m    120\u001b[0m                                         \u001b[0mtextlist\u001b[0m\u001b[1;33m.\u001b[0m\u001b[0mappend\u001b[0m\u001b[1;33m(\u001b[0m\u001b[1;33m[\u001b[0m\u001b[0mi\u001b[0m \u001b[1;32mfor\u001b[0m \u001b[0mi\u001b[0m \u001b[1;32min\u001b[0m \u001b[0mline\u001b[0m\u001b[1;33m.\u001b[0m\u001b[0msplit\u001b[0m\u001b[1;33m(\u001b[0m\u001b[1;33m)\u001b[0m\u001b[1;33m]\u001b[0m\u001b[1;33m)\u001b[0m\u001b[1;33m\u001b[0m\u001b[1;33m\u001b[0m\u001b[0m\n",
      "\u001b[1;31mFileNotFoundError\u001b[0m: [Errno 2] No such file or directory: 'lr_abc.out'"
     ]
    }
   ],
   "source": [
    "z.get_results()"
   ]
  },
  {
   "cell_type": "code",
   "execution_count": null,
   "metadata": {},
   "outputs": [],
   "source": []
  }
 ]
}